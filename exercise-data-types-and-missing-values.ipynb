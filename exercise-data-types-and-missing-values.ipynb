{
 "cells": [
  {
   "cell_type": "markdown",
   "id": "3fa33afc",
   "metadata": {
    "papermill": {
     "duration": 0.01048,
     "end_time": "2021-07-18T19:55:57.056287",
     "exception": false,
     "start_time": "2021-07-18T19:55:57.045807",
     "status": "completed"
    },
    "tags": []
   },
   "source": [
    "**This notebook is an exercise in the [Pandas](https://www.kaggle.com/learn/pandas) course.  You can reference the tutorial at [this link](https://www.kaggle.com/residentmario/data-types-and-missing-values).**\n",
    "\n",
    "---\n"
   ]
  },
  {
   "cell_type": "markdown",
   "id": "56b7ee08",
   "metadata": {
    "papermill": {
     "duration": 0.009519,
     "end_time": "2021-07-18T19:55:57.076180",
     "exception": false,
     "start_time": "2021-07-18T19:55:57.066661",
     "status": "completed"
    },
    "tags": []
   },
   "source": [
    "# Introduction\n",
    "\n",
    "Run the following cell to load your data and some utility functions."
   ]
  },
  {
   "cell_type": "code",
   "execution_count": 1,
   "id": "9f255ee9",
   "metadata": {
    "execution": {
     "iopub.execute_input": "2021-07-18T19:55:57.106687Z",
     "iopub.status.busy": "2021-07-18T19:55:57.106021Z",
     "iopub.status.idle": "2021-07-18T19:56:00.007495Z",
     "shell.execute_reply": "2021-07-18T19:56:00.006757Z",
     "shell.execute_reply.started": "2021-07-14T14:55:07.712043Z"
    },
    "papermill": {
     "duration": 2.921744,
     "end_time": "2021-07-18T19:56:00.007668",
     "exception": false,
     "start_time": "2021-07-18T19:55:57.085924",
     "status": "completed"
    },
    "tags": []
   },
   "outputs": [
    {
     "name": "stdout",
     "output_type": "stream",
     "text": [
      "Setup complete.\n"
     ]
    }
   ],
   "source": [
    "import pandas as pd\n",
    "\n",
    "reviews = pd.read_csv(\"../input/wine-reviews/winemag-data-130k-v2.csv\", index_col=0)\n",
    "\n",
    "from learntools.core import binder; binder.bind(globals())\n",
    "from learntools.pandas.data_types_and_missing_data import *\n",
    "print(\"Setup complete.\")"
   ]
  },
  {
   "cell_type": "markdown",
   "id": "ae8d64b6",
   "metadata": {
    "papermill": {
     "duration": 0.010662,
     "end_time": "2021-07-18T19:56:00.029135",
     "exception": false,
     "start_time": "2021-07-18T19:56:00.018473",
     "status": "completed"
    },
    "tags": []
   },
   "source": [
    "# Exercises"
   ]
  },
  {
   "cell_type": "markdown",
   "id": "c889f7e6",
   "metadata": {
    "papermill": {
     "duration": 0.010911,
     "end_time": "2021-07-18T19:56:00.050197",
     "exception": false,
     "start_time": "2021-07-18T19:56:00.039286",
     "status": "completed"
    },
    "tags": []
   },
   "source": [
    "## 1. \n",
    "What is the data type of the `points` column in the dataset?"
   ]
  },
  {
   "cell_type": "code",
   "execution_count": 2,
   "id": "378eb131",
   "metadata": {
    "execution": {
     "iopub.execute_input": "2021-07-18T19:56:00.079357Z",
     "iopub.status.busy": "2021-07-18T19:56:00.078307Z",
     "iopub.status.idle": "2021-07-18T19:56:00.086990Z",
     "shell.execute_reply": "2021-07-18T19:56:00.086239Z",
     "shell.execute_reply.started": "2021-07-14T14:55:08.76902Z"
    },
    "papermill": {
     "duration": 0.026952,
     "end_time": "2021-07-18T19:56:00.087181",
     "exception": false,
     "start_time": "2021-07-18T19:56:00.060229",
     "status": "completed"
    },
    "tags": []
   },
   "outputs": [
    {
     "data": {
      "application/javascript": [
       "parent.postMessage({\"jupyterEvent\": \"custom.exercise_interaction\", \"data\": {\"outcomeType\": 1, \"valueTowardsCompletion\": 0.25, \"interactionType\": 1, \"questionType\": 1, \"questionId\": \"1_PointsDtype\", \"learnToolsVersion\": \"0.3.4\", \"failureMessage\": \"\", \"exceptionClass\": \"\", \"trace\": \"\"}}, \"*\")"
      ],
      "text/plain": [
       "<IPython.core.display.Javascript object>"
      ]
     },
     "metadata": {},
     "output_type": "display_data"
    },
    {
     "data": {
      "text/markdown": [
       "<span style=\"color:#33cc33\">Correct</span>"
      ],
      "text/plain": [
       "Correct"
      ]
     },
     "metadata": {},
     "output_type": "display_data"
    }
   ],
   "source": [
    "# Your code here\n",
    "dtype = reviews.points.dtype\n",
    "\n",
    "# Check your answer\n",
    "q1.check()"
   ]
  },
  {
   "cell_type": "code",
   "execution_count": 3,
   "id": "a1f083d1",
   "metadata": {
    "execution": {
     "iopub.execute_input": "2021-07-18T19:56:00.113314Z",
     "iopub.status.busy": "2021-07-18T19:56:00.112618Z",
     "iopub.status.idle": "2021-07-18T19:56:00.119378Z",
     "shell.execute_reply": "2021-07-18T19:56:00.119859Z",
     "shell.execute_reply.started": "2021-07-14T14:55:08.779553Z"
    },
    "papermill": {
     "duration": 0.021934,
     "end_time": "2021-07-18T19:56:00.120059",
     "exception": false,
     "start_time": "2021-07-18T19:56:00.098125",
     "status": "completed"
    },
    "tags": []
   },
   "outputs": [
    {
     "data": {
      "application/javascript": [
       "parent.postMessage({\"jupyterEvent\": \"custom.exercise_interaction\", \"data\": {\"interactionType\": 3, \"questionType\": 1, \"questionId\": \"1_PointsDtype\", \"learnToolsVersion\": \"0.3.4\", \"valueTowardsCompletion\": 0.0, \"failureMessage\": \"\", \"exceptionClass\": \"\", \"trace\": \"\", \"outcomeType\": 4}}, \"*\")"
      ],
      "text/plain": [
       "<IPython.core.display.Javascript object>"
      ]
     },
     "metadata": {},
     "output_type": "display_data"
    },
    {
     "data": {
      "text/markdown": [
       "<span style=\"color:#33cc99\">Solution:</span> \n",
       "```python\n",
       "dtype = reviews.points.dtype\n",
       "```"
      ],
      "text/plain": [
       "Solution: \n",
       "```python\n",
       "dtype = reviews.points.dtype\n",
       "```"
      ]
     },
     "metadata": {},
     "output_type": "display_data"
    }
   ],
   "source": [
    "#q1.hint()\n",
    "q1.solution()"
   ]
  },
  {
   "cell_type": "markdown",
   "id": "c637cb1a",
   "metadata": {
    "papermill": {
     "duration": 0.011156,
     "end_time": "2021-07-18T19:56:00.142884",
     "exception": false,
     "start_time": "2021-07-18T19:56:00.131728",
     "status": "completed"
    },
    "tags": []
   },
   "source": [
    "## 2. \n",
    "Create a Series from entries in the `points` column, but convert the entries to strings. Hint: strings are `str` in native Python."
   ]
  },
  {
   "cell_type": "code",
   "execution_count": 4,
   "id": "db38479e",
   "metadata": {
    "execution": {
     "iopub.execute_input": "2021-07-18T19:56:00.169522Z",
     "iopub.status.busy": "2021-07-18T19:56:00.168872Z",
     "iopub.status.idle": "2021-07-18T19:56:00.264699Z",
     "shell.execute_reply": "2021-07-18T19:56:00.265131Z",
     "shell.execute_reply.started": "2021-07-14T14:55:08.796961Z"
    },
    "papermill": {
     "duration": 0.110806,
     "end_time": "2021-07-18T19:56:00.265307",
     "exception": false,
     "start_time": "2021-07-18T19:56:00.154501",
     "status": "completed"
    },
    "tags": []
   },
   "outputs": [
    {
     "data": {
      "application/javascript": [
       "parent.postMessage({\"jupyterEvent\": \"custom.exercise_interaction\", \"data\": {\"outcomeType\": 1, \"valueTowardsCompletion\": 0.25, \"interactionType\": 1, \"questionType\": 1, \"questionId\": \"2_StrPoints\", \"learnToolsVersion\": \"0.3.4\", \"failureMessage\": \"\", \"exceptionClass\": \"\", \"trace\": \"\"}}, \"*\")"
      ],
      "text/plain": [
       "<IPython.core.display.Javascript object>"
      ]
     },
     "metadata": {},
     "output_type": "display_data"
    },
    {
     "data": {
      "text/markdown": [
       "<span style=\"color:#33cc33\">Correct</span>"
      ],
      "text/plain": [
       "Correct"
      ]
     },
     "metadata": {},
     "output_type": "display_data"
    }
   ],
   "source": [
    "point_strings = reviews.points.astype(str)\n",
    "\n",
    "# Check your answer\n",
    "q2.check()"
   ]
  },
  {
   "cell_type": "code",
   "execution_count": 5,
   "id": "e4be3944",
   "metadata": {
    "execution": {
     "iopub.execute_input": "2021-07-18T19:56:00.292959Z",
     "iopub.status.busy": "2021-07-18T19:56:00.292365Z",
     "iopub.status.idle": "2021-07-18T19:56:00.297982Z",
     "shell.execute_reply": "2021-07-18T19:56:00.298449Z",
     "shell.execute_reply.started": "2021-07-14T14:55:08.890673Z"
    },
    "papermill": {
     "duration": 0.021152,
     "end_time": "2021-07-18T19:56:00.298643",
     "exception": false,
     "start_time": "2021-07-18T19:56:00.277491",
     "status": "completed"
    },
    "tags": []
   },
   "outputs": [
    {
     "data": {
      "application/javascript": [
       "parent.postMessage({\"jupyterEvent\": \"custom.exercise_interaction\", \"data\": {\"interactionType\": 3, \"questionType\": 1, \"questionId\": \"2_StrPoints\", \"learnToolsVersion\": \"0.3.4\", \"valueTowardsCompletion\": 0.0, \"failureMessage\": \"\", \"exceptionClass\": \"\", \"trace\": \"\", \"outcomeType\": 4}}, \"*\")"
      ],
      "text/plain": [
       "<IPython.core.display.Javascript object>"
      ]
     },
     "metadata": {},
     "output_type": "display_data"
    },
    {
     "data": {
      "text/markdown": [
       "<span style=\"color:#33cc99\">Solution:</span> \n",
       "```python\n",
       "point_strings = reviews.points.astype(str)\n",
       "```"
      ],
      "text/plain": [
       "Solution: \n",
       "```python\n",
       "point_strings = reviews.points.astype(str)\n",
       "```"
      ]
     },
     "metadata": {},
     "output_type": "display_data"
    }
   ],
   "source": [
    "#q2.hint()\n",
    "q2.solution()"
   ]
  },
  {
   "cell_type": "markdown",
   "id": "2ff6afb0",
   "metadata": {
    "papermill": {
     "duration": 0.013084,
     "end_time": "2021-07-18T19:56:00.324809",
     "exception": false,
     "start_time": "2021-07-18T19:56:00.311725",
     "status": "completed"
    },
    "tags": []
   },
   "source": [
    "## 3.\n",
    "Sometimes the price column is null. How many reviews in the dataset are missing a price?"
   ]
  },
  {
   "cell_type": "code",
   "execution_count": 6,
   "id": "c8f59504",
   "metadata": {
    "execution": {
     "iopub.execute_input": "2021-07-18T19:56:00.354810Z",
     "iopub.status.busy": "2021-07-18T19:56:00.354202Z",
     "iopub.status.idle": "2021-07-18T19:56:00.368765Z",
     "shell.execute_reply": "2021-07-18T19:56:00.368299Z",
     "shell.execute_reply.started": "2021-07-14T14:55:08.900575Z"
    },
    "papermill": {
     "duration": 0.030404,
     "end_time": "2021-07-18T19:56:00.368904",
     "exception": false,
     "start_time": "2021-07-18T19:56:00.338500",
     "status": "completed"
    },
    "tags": []
   },
   "outputs": [
    {
     "data": {
      "application/javascript": [
       "parent.postMessage({\"jupyterEvent\": \"custom.exercise_interaction\", \"data\": {\"outcomeType\": 1, \"valueTowardsCompletion\": 0.25, \"interactionType\": 1, \"questionType\": 1, \"questionId\": \"3_CountMissingPrices\", \"learnToolsVersion\": \"0.3.4\", \"failureMessage\": \"\", \"exceptionClass\": \"\", \"trace\": \"\"}}, \"*\")"
      ],
      "text/plain": [
       "<IPython.core.display.Javascript object>"
      ]
     },
     "metadata": {},
     "output_type": "display_data"
    },
    {
     "data": {
      "text/markdown": [
       "<span style=\"color:#33cc33\">Correct</span>"
      ],
      "text/plain": [
       "Correct"
      ]
     },
     "metadata": {},
     "output_type": "display_data"
    }
   ],
   "source": [
    "missing_price_reviews = reviews[reviews.price.isnull()]\n",
    "n_missing_prices = len(missing_price_reviews)\n",
    "# Cute alternative solution: if we sum a boolean series, True is treated as 1 and False as 0\n",
    "n_missing_prices = reviews.price.isnull().sum()\n",
    "# or equivalently:\n",
    "n_missing_prices = pd.isnull(reviews.price).sum()\n",
    "\n",
    "# Check your answer\n",
    "q3.check()"
   ]
  },
  {
   "cell_type": "code",
   "execution_count": 7,
   "id": "463afe9c",
   "metadata": {
    "execution": {
     "iopub.execute_input": "2021-07-18T19:56:00.401993Z",
     "iopub.status.busy": "2021-07-18T19:56:00.401405Z",
     "iopub.status.idle": "2021-07-18T19:56:00.404066Z",
     "shell.execute_reply": "2021-07-18T19:56:00.404686Z",
     "shell.execute_reply.started": "2021-07-14T14:55:08.920595Z"
    },
    "papermill": {
     "duration": 0.020861,
     "end_time": "2021-07-18T19:56:00.404857",
     "exception": false,
     "start_time": "2021-07-18T19:56:00.383996",
     "status": "completed"
    },
    "tags": []
   },
   "outputs": [],
   "source": [
    "#q3.hint()\n",
    "#q3.solution()"
   ]
  },
  {
   "cell_type": "markdown",
   "id": "41697e08",
   "metadata": {
    "papermill": {
     "duration": 0.013253,
     "end_time": "2021-07-18T19:56:00.431987",
     "exception": false,
     "start_time": "2021-07-18T19:56:00.418734",
     "status": "completed"
    },
    "tags": []
   },
   "source": [
    "## 4.\n",
    "What are the most common wine-producing regions? Create a Series counting the number of times each value occurs in the `region_1` field. This field is often missing data, so replace missing values with `Unknown`. Sort in descending order.  Your output should look something like this:\n",
    "\n",
    "```\n",
    "Unknown                    21247\n",
    "Napa Valley                 4480\n",
    "                           ...  \n",
    "Bardolino Superiore            1\n",
    "Primitivo del Tarantino        1\n",
    "Name: region_1, Length: 1230, dtype: int64\n",
    "```"
   ]
  },
  {
   "cell_type": "code",
   "execution_count": 8,
   "id": "ce61e411",
   "metadata": {
    "execution": {
     "iopub.execute_input": "2021-07-18T19:56:00.461960Z",
     "iopub.status.busy": "2021-07-18T19:56:00.461374Z",
     "iopub.status.idle": "2021-07-18T19:56:00.513560Z",
     "shell.execute_reply": "2021-07-18T19:56:00.513991Z",
     "shell.execute_reply.started": "2021-07-14T14:55:08.925871Z"
    },
    "papermill": {
     "duration": 0.068609,
     "end_time": "2021-07-18T19:56:00.514172",
     "exception": false,
     "start_time": "2021-07-18T19:56:00.445563",
     "status": "completed"
    },
    "tags": []
   },
   "outputs": [
    {
     "data": {
      "application/javascript": [
       "parent.postMessage({\"jupyterEvent\": \"custom.exercise_interaction\", \"data\": {\"outcomeType\": 1, \"valueTowardsCompletion\": 0.25, \"interactionType\": 1, \"questionType\": 2, \"questionId\": \"4_ReviewsPerRegion\", \"learnToolsVersion\": \"0.3.4\", \"failureMessage\": \"\", \"exceptionClass\": \"\", \"trace\": \"\"}}, \"*\")"
      ],
      "text/plain": [
       "<IPython.core.display.Javascript object>"
      ]
     },
     "metadata": {},
     "output_type": "display_data"
    },
    {
     "data": {
      "text/markdown": [
       "<span style=\"color:#33cc33\">Correct</span>"
      ],
      "text/plain": [
       "Correct"
      ]
     },
     "metadata": {},
     "output_type": "display_data"
    }
   ],
   "source": [
    "reviews_per_region = reviews.region_1.fillna('Unknown').value_counts().sort_values(ascending=False)\n",
    "\n",
    "# Check your answer\n",
    "q4.check()"
   ]
  },
  {
   "cell_type": "code",
   "execution_count": 9,
   "id": "1025bcf1",
   "metadata": {
    "execution": {
     "iopub.execute_input": "2021-07-18T19:56:00.547283Z",
     "iopub.status.busy": "2021-07-18T19:56:00.546319Z",
     "iopub.status.idle": "2021-07-18T19:56:00.548608Z",
     "shell.execute_reply": "2021-07-18T19:56:00.548996Z",
     "shell.execute_reply.started": "2021-07-14T14:55:08.988799Z"
    },
    "papermill": {
     "duration": 0.020825,
     "end_time": "2021-07-18T19:56:00.549195",
     "exception": false,
     "start_time": "2021-07-18T19:56:00.528370",
     "status": "completed"
    },
    "tags": []
   },
   "outputs": [],
   "source": [
    "#q4.hint()\n",
    "#q4.solution()"
   ]
  },
  {
   "cell_type": "markdown",
   "id": "d14bf1a9",
   "metadata": {
    "papermill": {
     "duration": 0.014355,
     "end_time": "2021-07-18T19:56:00.577903",
     "exception": false,
     "start_time": "2021-07-18T19:56:00.563548",
     "status": "completed"
    },
    "tags": []
   },
   "source": [
    "# Keep going\n",
    "\n",
    "Move on to **[renaming and combining](https://www.kaggle.com/residentmario/renaming-and-combining)**."
   ]
  },
  {
   "cell_type": "markdown",
   "id": "d43158da",
   "metadata": {
    "papermill": {
     "duration": 0.013925,
     "end_time": "2021-07-18T19:56:00.606467",
     "exception": false,
     "start_time": "2021-07-18T19:56:00.592542",
     "status": "completed"
    },
    "tags": []
   },
   "source": [
    "---\n",
    "\n",
    "\n",
    "\n",
    "\n",
    "*Have questions or comments? Visit the [Learn Discussion forum](https://www.kaggle.com/learn-forum/161299) to chat with other Learners.*"
   ]
  }
 ],
 "metadata": {
  "kernelspec": {
   "display_name": "Python 3",
   "language": "python",
   "name": "python3"
  },
  "language_info": {
   "codemirror_mode": {
    "name": "ipython",
    "version": 3
   },
   "file_extension": ".py",
   "mimetype": "text/x-python",
   "name": "python",
   "nbconvert_exporter": "python",
   "pygments_lexer": "ipython3",
   "version": "3.7.10"
  },
  "papermill": {
   "default_parameters": {},
   "duration": 12.82746,
   "end_time": "2021-07-18T19:56:02.226943",
   "environment_variables": {},
   "exception": null,
   "input_path": "__notebook__.ipynb",
   "output_path": "__notebook__.ipynb",
   "parameters": {},
   "start_time": "2021-07-18T19:55:49.399483",
   "version": "2.3.3"
  }
 },
 "nbformat": 4,
 "nbformat_minor": 5
}
