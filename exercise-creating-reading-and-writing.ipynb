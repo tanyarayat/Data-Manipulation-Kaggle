{
 "cells": [
  {
   "cell_type": "markdown",
   "id": "131b7327",
   "metadata": {
    "papermill": {
     "duration": 0.016518,
     "end_time": "2021-07-18T19:48:16.910465",
     "exception": false,
     "start_time": "2021-07-18T19:48:16.893947",
     "status": "completed"
    },
    "tags": []
   },
   "source": [
    "**This notebook is an exercise in the [Pandas](https://www.kaggle.com/learn/pandas) course.  You can reference the tutorial at [this link](https://www.kaggle.com/residentmario/creating-reading-and-writing).**\n",
    "\n",
    "---\n"
   ]
  },
  {
   "cell_type": "markdown",
   "id": "9bd9074c",
   "metadata": {
    "papermill": {
     "duration": 0.014981,
     "end_time": "2021-07-18T19:48:16.941295",
     "exception": false,
     "start_time": "2021-07-18T19:48:16.926314",
     "status": "completed"
    },
    "tags": []
   },
   "source": [
    "# Introduction\n",
    "\n",
    "The first step in most data analytics projects is reading the data file. In this exercise, you'll create Series and DataFrame objects, both by hand and by reading data files.\n",
    "\n",
    "Run the code cell below to load libraries you will need (including code to check your answers)."
   ]
  },
  {
   "cell_type": "code",
   "execution_count": 1,
   "id": "9e8e172a",
   "metadata": {
    "execution": {
     "iopub.execute_input": "2021-07-18T19:48:16.984547Z",
     "iopub.status.busy": "2021-07-18T19:48:16.983831Z",
     "iopub.status.idle": "2021-07-18T19:48:18.887924Z",
     "shell.execute_reply": "2021-07-18T19:48:18.887243Z",
     "shell.execute_reply.started": "2021-07-14T14:35:46.725305Z"
    },
    "papermill": {
     "duration": 1.931501,
     "end_time": "2021-07-18T19:48:18.888120",
     "exception": false,
     "start_time": "2021-07-18T19:48:16.956619",
     "status": "completed"
    },
    "tags": []
   },
   "outputs": [
    {
     "name": "stdout",
     "output_type": "stream",
     "text": [
      "Setup complete.\n"
     ]
    }
   ],
   "source": [
    "import pandas as pd\n",
    "pd.set_option('max_rows', 5)\n",
    "from learntools.core import binder; binder.bind(globals())\n",
    "from learntools.pandas.creating_reading_and_writing import *\n",
    "print(\"Setup complete.\")"
   ]
  },
  {
   "cell_type": "markdown",
   "id": "3f28f379",
   "metadata": {
    "papermill": {
     "duration": 0.015549,
     "end_time": "2021-07-18T19:48:18.920032",
     "exception": false,
     "start_time": "2021-07-18T19:48:18.904483",
     "status": "completed"
    },
    "tags": []
   },
   "source": [
    "# Exercises"
   ]
  },
  {
   "cell_type": "markdown",
   "id": "5a4f2ab7",
   "metadata": {
    "papermill": {
     "duration": 0.015435,
     "end_time": "2021-07-18T19:48:18.951190",
     "exception": false,
     "start_time": "2021-07-18T19:48:18.935755",
     "status": "completed"
    },
    "tags": []
   },
   "source": [
    "## 1.\n",
    "\n",
    "In the cell below, create a DataFrame `fruits` that looks like this:\n",
    "\n",
    "![](https://i.imgur.com/Ax3pp2A.png)"
   ]
  },
  {
   "cell_type": "code",
   "execution_count": 2,
   "id": "99bf1947",
   "metadata": {
    "execution": {
     "iopub.execute_input": "2021-07-18T19:48:18.985514Z",
     "iopub.status.busy": "2021-07-18T19:48:18.984925Z",
     "iopub.status.idle": "2021-07-18T19:48:18.995160Z",
     "shell.execute_reply": "2021-07-18T19:48:18.995630Z",
     "shell.execute_reply.started": "2021-07-14T14:36:21.929909Z"
    },
    "papermill": {
     "duration": 0.028969,
     "end_time": "2021-07-18T19:48:18.995811",
     "exception": false,
     "start_time": "2021-07-18T19:48:18.966842",
     "status": "completed"
    },
    "tags": []
   },
   "outputs": [
    {
     "data": {
      "application/javascript": [
       "parent.postMessage({\"jupyterEvent\": \"custom.exercise_interaction\", \"data\": {\"outcomeType\": 1, \"valueTowardsCompletion\": 0.16666666666666666, \"interactionType\": 1, \"questionType\": 1, \"questionId\": \"1_FruitDfCreation\", \"learnToolsVersion\": \"0.3.4\", \"failureMessage\": \"\", \"exceptionClass\": \"\", \"trace\": \"\"}}, \"*\")"
      ],
      "text/plain": [
       "<IPython.core.display.Javascript object>"
      ]
     },
     "metadata": {},
     "output_type": "display_data"
    },
    {
     "data": {
      "text/markdown": [
       "<span style=\"color:#33cc33\">Correct</span>"
      ],
      "text/plain": [
       "Correct"
      ]
     },
     "metadata": {},
     "output_type": "display_data"
    }
   ],
   "source": [
    "# Your code goes here. Create a dataframe matching the above diagram and assign it to the variable fruits.\n",
    "fruits= pd.DataFrame({'Apples':[30], 'Bananas':[21]}, index=[0])\n",
    "\n",
    "# Check your answer\n",
    "q1.check()\n"
   ]
  },
  {
   "cell_type": "code",
   "execution_count": 3,
   "id": "7a0d0836",
   "metadata": {
    "execution": {
     "iopub.execute_input": "2021-07-18T19:48:19.032180Z",
     "iopub.status.busy": "2021-07-18T19:48:19.031554Z",
     "iopub.status.idle": "2021-07-18T19:48:19.034812Z",
     "shell.execute_reply": "2021-07-18T19:48:19.035312Z",
     "shell.execute_reply.started": "2021-07-14T14:36:27.834729Z"
    },
    "papermill": {
     "duration": 0.022965,
     "end_time": "2021-07-18T19:48:19.035482",
     "exception": false,
     "start_time": "2021-07-18T19:48:19.012517",
     "status": "completed"
    },
    "tags": []
   },
   "outputs": [],
   "source": [
    "#q1.hint()\n",
    "#q1.solution()"
   ]
  },
  {
   "cell_type": "markdown",
   "id": "16035043",
   "metadata": {
    "papermill": {
     "duration": 0.016749,
     "end_time": "2021-07-18T19:48:19.069073",
     "exception": false,
     "start_time": "2021-07-18T19:48:19.052324",
     "status": "completed"
    },
    "tags": []
   },
   "source": [
    "## 2.\n",
    "\n",
    "Create a dataframe `fruit_sales` that matches the diagram below:\n",
    "\n",
    "![](https://i.imgur.com/CHPn7ZF.png)"
   ]
  },
  {
   "cell_type": "code",
   "execution_count": 4,
   "id": "bf3f2f22",
   "metadata": {
    "execution": {
     "iopub.execute_input": "2021-07-18T19:48:19.110844Z",
     "iopub.status.busy": "2021-07-18T19:48:19.110060Z",
     "iopub.status.idle": "2021-07-18T19:48:19.114258Z",
     "shell.execute_reply": "2021-07-18T19:48:19.114743Z",
     "shell.execute_reply.started": "2021-07-14T14:38:22.429608Z"
    },
    "papermill": {
     "duration": 0.028533,
     "end_time": "2021-07-18T19:48:19.114940",
     "exception": false,
     "start_time": "2021-07-18T19:48:19.086407",
     "status": "completed"
    },
    "tags": []
   },
   "outputs": [
    {
     "data": {
      "application/javascript": [
       "parent.postMessage({\"jupyterEvent\": \"custom.exercise_interaction\", \"data\": {\"outcomeType\": 1, \"valueTowardsCompletion\": 0.16666666666666666, \"interactionType\": 1, \"questionType\": 1, \"questionId\": \"2_FruitSalesDfCreation\", \"learnToolsVersion\": \"0.3.4\", \"failureMessage\": \"\", \"exceptionClass\": \"\", \"trace\": \"\"}}, \"*\")"
      ],
      "text/plain": [
       "<IPython.core.display.Javascript object>"
      ]
     },
     "metadata": {},
     "output_type": "display_data"
    },
    {
     "data": {
      "text/markdown": [
       "<span style=\"color:#33cc33\">Correct</span>"
      ],
      "text/plain": [
       "Correct"
      ]
     },
     "metadata": {},
     "output_type": "display_data"
    }
   ],
   "source": [
    "fruit_sales =pd.DataFrame([[35,21], [41,34]],columns=['Apples','Bananas'], index=['2017 Sales', '2018 Sales'])\n",
    "q2.check()"
   ]
  },
  {
   "cell_type": "code",
   "execution_count": 5,
   "id": "091354e5",
   "metadata": {
    "execution": {
     "iopub.execute_input": "2021-07-18T19:48:19.155583Z",
     "iopub.status.busy": "2021-07-18T19:48:19.154944Z",
     "iopub.status.idle": "2021-07-18T19:48:19.157094Z",
     "shell.execute_reply": "2021-07-18T19:48:19.157573Z",
     "shell.execute_reply.started": "2021-07-14T14:38:26.548968Z"
    },
    "papermill": {
     "duration": 0.024769,
     "end_time": "2021-07-18T19:48:19.157783",
     "exception": false,
     "start_time": "2021-07-18T19:48:19.133014",
     "status": "completed"
    },
    "tags": []
   },
   "outputs": [],
   "source": [
    "#q2.hint()\n",
    "#q2.solution()"
   ]
  },
  {
   "cell_type": "markdown",
   "id": "efa8c3ba",
   "metadata": {
    "papermill": {
     "duration": 0.017642,
     "end_time": "2021-07-18T19:48:19.193740",
     "exception": false,
     "start_time": "2021-07-18T19:48:19.176098",
     "status": "completed"
    },
    "tags": []
   },
   "source": [
    "## 3.\n",
    "\n",
    "Create a variable `ingredients` with a Series that looks like:\n",
    "\n",
    "```\n",
    "Flour     4 cups\n",
    "Milk       1 cup\n",
    "Eggs     2 large\n",
    "Spam       1 can\n",
    "Name: Dinner, dtype: object\n",
    "```"
   ]
  },
  {
   "cell_type": "code",
   "execution_count": 6,
   "id": "1ea6b11e",
   "metadata": {
    "execution": {
     "iopub.execute_input": "2021-07-18T19:48:19.232953Z",
     "iopub.status.busy": "2021-07-18T19:48:19.232283Z",
     "iopub.status.idle": "2021-07-18T19:48:19.240257Z",
     "shell.execute_reply": "2021-07-18T19:48:19.240750Z",
     "shell.execute_reply.started": "2021-07-14T14:38:41.069113Z"
    },
    "papermill": {
     "duration": 0.029107,
     "end_time": "2021-07-18T19:48:19.240921",
     "exception": false,
     "start_time": "2021-07-18T19:48:19.211814",
     "status": "completed"
    },
    "tags": []
   },
   "outputs": [
    {
     "data": {
      "application/javascript": [
       "parent.postMessage({\"jupyterEvent\": \"custom.exercise_interaction\", \"data\": {\"outcomeType\": 1, \"valueTowardsCompletion\": 0.16666666666666666, \"interactionType\": 1, \"questionType\": 2, \"questionId\": \"3_RecipeSeriesCreation\", \"learnToolsVersion\": \"0.3.4\", \"failureMessage\": \"\", \"exceptionClass\": \"\", \"trace\": \"\"}}, \"*\")"
      ],
      "text/plain": [
       "<IPython.core.display.Javascript object>"
      ]
     },
     "metadata": {},
     "output_type": "display_data"
    },
    {
     "data": {
      "text/markdown": [
       "<span style=\"color:#33cc33\">Correct</span>"
      ],
      "text/plain": [
       "Correct"
      ]
     },
     "metadata": {},
     "output_type": "display_data"
    }
   ],
   "source": [
    "ingredients =pd.Series(['4 cups', '1 cup' ,'2 large','1 can'], index=['Flour', 'Milk', 'Eggs','Spam'], name='Dinner')\n",
    "\n",
    "# Check your answer\n",
    "q3.check()"
   ]
  },
  {
   "cell_type": "code",
   "execution_count": 7,
   "id": "0993a48a",
   "metadata": {
    "execution": {
     "iopub.execute_input": "2021-07-18T19:48:19.281393Z",
     "iopub.status.busy": "2021-07-18T19:48:19.280742Z",
     "iopub.status.idle": "2021-07-18T19:48:19.283556Z",
     "shell.execute_reply": "2021-07-18T19:48:19.284048Z"
    },
    "papermill": {
     "duration": 0.024632,
     "end_time": "2021-07-18T19:48:19.284210",
     "exception": false,
     "start_time": "2021-07-18T19:48:19.259578",
     "status": "completed"
    },
    "tags": []
   },
   "outputs": [],
   "source": [
    "#q3.hint()\n",
    "#q3.solution()"
   ]
  },
  {
   "cell_type": "markdown",
   "id": "9e487e78",
   "metadata": {
    "papermill": {
     "duration": 0.018357,
     "end_time": "2021-07-18T19:48:19.321499",
     "exception": false,
     "start_time": "2021-07-18T19:48:19.303142",
     "status": "completed"
    },
    "tags": []
   },
   "source": [
    "## 4.\n",
    "\n",
    "Read the following csv dataset of wine reviews into a DataFrame called `reviews`:\n",
    "\n",
    "![](https://i.imgur.com/74RCZtU.png)\n",
    "\n",
    "The filepath to the csv file is `../input/wine-reviews/winemag-data_first150k.csv`. The first few lines look like:\n",
    "\n",
    "```\n",
    ",country,description,designation,points,price,province,region_1,region_2,variety,winery\n",
    "0,US,\"This tremendous 100% varietal wine[...]\",Martha's Vineyard,96,235.0,California,Napa Valley,Napa,Cabernet Sauvignon,Heitz\n",
    "1,Spain,\"Ripe aromas of fig, blackberry and[...]\",Carodorum Selección Especial Reserva,96,110.0,Northern Spain,Toro,,Tinta de Toro,Bodega Carmen Rodríguez\n",
    "```"
   ]
  },
  {
   "cell_type": "code",
   "execution_count": 8,
   "id": "92f23590",
   "metadata": {
    "execution": {
     "iopub.execute_input": "2021-07-18T19:48:19.362488Z",
     "iopub.status.busy": "2021-07-18T19:48:19.361853Z",
     "iopub.status.idle": "2021-07-18T19:48:20.292254Z",
     "shell.execute_reply": "2021-07-18T19:48:20.292782Z",
     "shell.execute_reply.started": "2021-07-14T14:38:59.124511Z"
    },
    "papermill": {
     "duration": 0.952789,
     "end_time": "2021-07-18T19:48:20.292954",
     "exception": false,
     "start_time": "2021-07-18T19:48:19.340165",
     "status": "completed"
    },
    "tags": []
   },
   "outputs": [
    {
     "data": {
      "application/javascript": [
       "parent.postMessage({\"jupyterEvent\": \"custom.exercise_interaction\", \"data\": {\"outcomeType\": 1, \"valueTowardsCompletion\": 0.16666666666666666, \"interactionType\": 1, \"questionType\": 1, \"questionId\": \"4_ReadWineCsv\", \"learnToolsVersion\": \"0.3.4\", \"failureMessage\": \"\", \"exceptionClass\": \"\", \"trace\": \"\"}}, \"*\")"
      ],
      "text/plain": [
       "<IPython.core.display.Javascript object>"
      ]
     },
     "metadata": {},
     "output_type": "display_data"
    },
    {
     "data": {
      "text/markdown": [
       "<span style=\"color:#33cc33\">Correct</span>"
      ],
      "text/plain": [
       "Correct"
      ]
     },
     "metadata": {},
     "output_type": "display_data"
    }
   ],
   "source": [
    "reviews = pd.read_csv(\"../input/wine-reviews/winemag-data_first150k.csv\", index_col=0)\n",
    "q4.check()"
   ]
  },
  {
   "cell_type": "code",
   "execution_count": 9,
   "id": "bb41e071",
   "metadata": {
    "execution": {
     "iopub.execute_input": "2021-07-18T19:48:20.336200Z",
     "iopub.status.busy": "2021-07-18T19:48:20.335554Z",
     "iopub.status.idle": "2021-07-18T19:48:20.338591Z",
     "shell.execute_reply": "2021-07-18T19:48:20.339131Z",
     "shell.execute_reply.started": "2021-06-02T17:59:53.685043Z"
    },
    "papermill": {
     "duration": 0.025909,
     "end_time": "2021-07-18T19:48:20.339315",
     "exception": false,
     "start_time": "2021-07-18T19:48:20.313406",
     "status": "completed"
    },
    "tags": []
   },
   "outputs": [],
   "source": [
    "#q4.hint()\n",
    "#q4.solution()"
   ]
  },
  {
   "cell_type": "markdown",
   "id": "f2558885",
   "metadata": {
    "papermill": {
     "duration": 0.019738,
     "end_time": "2021-07-18T19:48:20.379501",
     "exception": false,
     "start_time": "2021-07-18T19:48:20.359763",
     "status": "completed"
    },
    "tags": []
   },
   "source": [
    "## 5.\n",
    "\n",
    "Run the cell below to create and display a DataFrame called `animals`:"
   ]
  },
  {
   "cell_type": "code",
   "execution_count": 10,
   "id": "24afeaf6",
   "metadata": {
    "execution": {
     "iopub.execute_input": "2021-07-18T19:48:20.423185Z",
     "iopub.status.busy": "2021-07-18T19:48:20.422538Z",
     "iopub.status.idle": "2021-07-18T19:48:20.438987Z",
     "shell.execute_reply": "2021-07-18T19:48:20.438417Z",
     "shell.execute_reply.started": "2021-07-14T14:39:11.82171Z"
    },
    "papermill": {
     "duration": 0.038962,
     "end_time": "2021-07-18T19:48:20.439149",
     "exception": false,
     "start_time": "2021-07-18T19:48:20.400187",
     "status": "completed"
    },
    "tags": []
   },
   "outputs": [
    {
     "data": {
      "text/html": [
       "<div>\n",
       "<style scoped>\n",
       "    .dataframe tbody tr th:only-of-type {\n",
       "        vertical-align: middle;\n",
       "    }\n",
       "\n",
       "    .dataframe tbody tr th {\n",
       "        vertical-align: top;\n",
       "    }\n",
       "\n",
       "    .dataframe thead th {\n",
       "        text-align: right;\n",
       "    }\n",
       "</style>\n",
       "<table border=\"1\" class=\"dataframe\">\n",
       "  <thead>\n",
       "    <tr style=\"text-align: right;\">\n",
       "      <th></th>\n",
       "      <th>Cows</th>\n",
       "      <th>Goats</th>\n",
       "    </tr>\n",
       "  </thead>\n",
       "  <tbody>\n",
       "    <tr>\n",
       "      <th>Year 1</th>\n",
       "      <td>12</td>\n",
       "      <td>22</td>\n",
       "    </tr>\n",
       "    <tr>\n",
       "      <th>Year 2</th>\n",
       "      <td>20</td>\n",
       "      <td>19</td>\n",
       "    </tr>\n",
       "  </tbody>\n",
       "</table>\n",
       "</div>"
      ],
      "text/plain": [
       "        Cows  Goats\n",
       "Year 1    12     22\n",
       "Year 2    20     19"
      ]
     },
     "execution_count": 10,
     "metadata": {},
     "output_type": "execute_result"
    }
   ],
   "source": [
    "animals = pd.DataFrame({'Cows': [12, 20], 'Goats': [22, 19]}, index=['Year 1', 'Year 2'])\n",
    "animals"
   ]
  },
  {
   "cell_type": "markdown",
   "id": "10c26668",
   "metadata": {
    "papermill": {
     "duration": 0.01983,
     "end_time": "2021-07-18T19:48:20.479384",
     "exception": false,
     "start_time": "2021-07-18T19:48:20.459554",
     "status": "completed"
    },
    "tags": []
   },
   "source": [
    "In the cell below, write code to save this DataFrame to disk as a csv file with the name `cows_and_goats.csv`."
   ]
  },
  {
   "cell_type": "code",
   "execution_count": 11,
   "id": "33e945a0",
   "metadata": {
    "execution": {
     "iopub.execute_input": "2021-07-18T19:48:20.527252Z",
     "iopub.status.busy": "2021-07-18T19:48:20.526200Z",
     "iopub.status.idle": "2021-07-18T19:48:20.538106Z",
     "shell.execute_reply": "2021-07-18T19:48:20.538589Z",
     "shell.execute_reply.started": "2021-07-14T14:39:41.950885Z"
    },
    "papermill": {
     "duration": 0.03914,
     "end_time": "2021-07-18T19:48:20.538777",
     "exception": false,
     "start_time": "2021-07-18T19:48:20.499637",
     "status": "completed"
    },
    "tags": []
   },
   "outputs": [
    {
     "data": {
      "application/javascript": [
       "parent.postMessage({\"jupyterEvent\": \"custom.exercise_interaction\", \"data\": {\"outcomeType\": 1, \"valueTowardsCompletion\": 0.16666666666666666, \"interactionType\": 1, \"questionType\": 2, \"questionId\": \"5_SaveAnimalsCsv\", \"learnToolsVersion\": \"0.3.4\", \"failureMessage\": \"\", \"exceptionClass\": \"\", \"trace\": \"\"}}, \"*\")"
      ],
      "text/plain": [
       "<IPython.core.display.Javascript object>"
      ]
     },
     "metadata": {},
     "output_type": "display_data"
    },
    {
     "data": {
      "text/markdown": [
       "<span style=\"color:#33cc33\">Correct</span>"
      ],
      "text/plain": [
       "Correct"
      ]
     },
     "metadata": {},
     "output_type": "display_data"
    }
   ],
   "source": [
    "animals = pd.DataFrame({'Cows': [12, 20], 'Goats': [22, 19]}, index=['Year 1', 'Year 2'])\n",
    "\n",
    "animals.to_csv('cows_and_goats.csv')\n",
    "q5.check()"
   ]
  },
  {
   "cell_type": "code",
   "execution_count": 12,
   "id": "dc90aa64",
   "metadata": {
    "execution": {
     "iopub.execute_input": "2021-07-18T19:48:20.586346Z",
     "iopub.status.busy": "2021-07-18T19:48:20.585719Z",
     "iopub.status.idle": "2021-07-18T19:48:20.588684Z",
     "shell.execute_reply": "2021-07-18T19:48:20.589182Z"
    },
    "papermill": {
     "duration": 0.027264,
     "end_time": "2021-07-18T19:48:20.589364",
     "exception": false,
     "start_time": "2021-07-18T19:48:20.562100",
     "status": "completed"
    },
    "tags": []
   },
   "outputs": [],
   "source": [
    "#q5.hint()\n",
    "#q5.solution()"
   ]
  },
  {
   "cell_type": "markdown",
   "id": "8ff4cffa",
   "metadata": {
    "papermill": {
     "duration": 0.024545,
     "end_time": "2021-07-18T19:48:20.635512",
     "exception": false,
     "start_time": "2021-07-18T19:48:20.610967",
     "status": "completed"
    },
    "tags": []
   },
   "source": [
    "# Keep going\n",
    "\n",
    "Move on to learn about **[indexing, selecting and assigning](https://www.kaggle.com/residentmario/indexing-selecting-assigning)**."
   ]
  },
  {
   "cell_type": "markdown",
   "id": "434b677a",
   "metadata": {
    "papermill": {
     "duration": 0.021191,
     "end_time": "2021-07-18T19:48:20.679889",
     "exception": false,
     "start_time": "2021-07-18T19:48:20.658698",
     "status": "completed"
    },
    "tags": []
   },
   "source": [
    "---\n",
    "\n",
    "\n",
    "\n",
    "\n",
    "*Have questions or comments? Visit the [Learn Discussion forum](https://www.kaggle.com/learn-forum/161299) to chat with other Learners.*"
   ]
  }
 ],
 "metadata": {
  "kernelspec": {
   "display_name": "Python 3",
   "language": "python",
   "name": "python3"
  },
  "language_info": {
   "codemirror_mode": {
    "name": "ipython",
    "version": 3
   },
   "file_extension": ".py",
   "mimetype": "text/x-python",
   "name": "python",
   "nbconvert_exporter": "python",
   "pygments_lexer": "ipython3",
   "version": "3.7.10"
  },
  "papermill": {
   "default_parameters": {},
   "duration": 13.819913,
   "end_time": "2021-07-18T19:48:22.360938",
   "environment_variables": {},
   "exception": null,
   "input_path": "__notebook__.ipynb",
   "output_path": "__notebook__.ipynb",
   "parameters": {},
   "start_time": "2021-07-18T19:48:08.541025",
   "version": "2.3.3"
  }
 },
 "nbformat": 4,
 "nbformat_minor": 5
}
