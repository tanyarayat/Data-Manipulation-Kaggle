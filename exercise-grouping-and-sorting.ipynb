{
 "cells": [
  {
   "cell_type": "markdown",
   "id": "80cca305",
   "metadata": {
    "papermill": {
     "duration": 0.018552,
     "end_time": "2021-07-18T19:52:25.910045",
     "exception": false,
     "start_time": "2021-07-18T19:52:25.891493",
     "status": "completed"
    },
    "tags": []
   },
   "source": [
    "**This notebook is an exercise in the [Pandas](https://www.kaggle.com/learn/pandas) course.  You can reference the tutorial at [this link](https://www.kaggle.com/residentmario/grouping-and-sorting).**\n",
    "\n",
    "---\n"
   ]
  },
  {
   "cell_type": "markdown",
   "id": "b6db017f",
   "metadata": {
    "papermill": {
     "duration": 0.017289,
     "end_time": "2021-07-18T19:52:25.945226",
     "exception": false,
     "start_time": "2021-07-18T19:52:25.927937",
     "status": "completed"
    },
    "tags": []
   },
   "source": [
    "# Introduction\n",
    "\n",
    "In these exercises we'll apply groupwise analysis to our dataset.\n",
    "\n",
    "Run the code cell below to load the data before running the exercises."
   ]
  },
  {
   "cell_type": "code",
   "execution_count": 1,
   "id": "533bc9a8",
   "metadata": {
    "execution": {
     "iopub.execute_input": "2021-07-18T19:52:25.991150Z",
     "iopub.status.busy": "2021-07-18T19:52:25.989335Z",
     "iopub.status.idle": "2021-07-18T19:52:29.120608Z",
     "shell.execute_reply": "2021-07-18T19:52:29.119919Z",
     "shell.execute_reply.started": "2021-07-14T14:52:28.79149Z"
    },
    "papermill": {
     "duration": 3.157889,
     "end_time": "2021-07-18T19:52:29.120776",
     "exception": false,
     "start_time": "2021-07-18T19:52:25.962887",
     "status": "completed"
    },
    "tags": []
   },
   "outputs": [
    {
     "name": "stdout",
     "output_type": "stream",
     "text": [
      "Setup complete.\n"
     ]
    }
   ],
   "source": [
    "import pandas as pd\n",
    "\n",
    "reviews = pd.read_csv(\"../input/wine-reviews/winemag-data-130k-v2.csv\", index_col=0)\n",
    "#pd.set_option(\"display.max_rows\", 5)\n",
    "\n",
    "from learntools.core import binder; binder.bind(globals())\n",
    "from learntools.pandas.grouping_and_sorting import *\n",
    "print(\"Setup complete.\")"
   ]
  },
  {
   "cell_type": "markdown",
   "id": "7bcfcf81",
   "metadata": {
    "papermill": {
     "duration": 0.017635,
     "end_time": "2021-07-18T19:52:29.157202",
     "exception": false,
     "start_time": "2021-07-18T19:52:29.139567",
     "status": "completed"
    },
    "tags": []
   },
   "source": [
    "# Exercises"
   ]
  },
  {
   "cell_type": "markdown",
   "id": "fb84d66b",
   "metadata": {
    "papermill": {
     "duration": 0.017675,
     "end_time": "2021-07-18T19:52:29.192868",
     "exception": false,
     "start_time": "2021-07-18T19:52:29.175193",
     "status": "completed"
    },
    "tags": []
   },
   "source": [
    "## 1.\n",
    "Who are the most common wine reviewers in the dataset? Create a `Series` whose index is the `taster_twitter_handle` category from the dataset, and whose values count how many reviews each person wrote."
   ]
  },
  {
   "cell_type": "code",
   "execution_count": 2,
   "id": "abc8286d",
   "metadata": {
    "execution": {
     "iopub.execute_input": "2021-07-18T19:52:29.250247Z",
     "iopub.status.busy": "2021-07-18T19:52:29.249523Z",
     "iopub.status.idle": "2021-07-18T19:52:29.260249Z",
     "shell.execute_reply": "2021-07-18T19:52:29.260723Z",
     "shell.execute_reply.started": "2021-07-14T14:52:29.958787Z"
    },
    "papermill": {
     "duration": 0.049849,
     "end_time": "2021-07-18T19:52:29.260896",
     "exception": false,
     "start_time": "2021-07-18T19:52:29.211047",
     "status": "completed"
    },
    "tags": []
   },
   "outputs": [
    {
     "data": {
      "application/javascript": [
       "parent.postMessage({\"jupyterEvent\": \"custom.exercise_interaction\", \"data\": {\"outcomeType\": 1, \"valueTowardsCompletion\": 0.16666666666666666, \"interactionType\": 1, \"questionType\": 1, \"questionId\": \"1_ReviewsWritten\", \"learnToolsVersion\": \"0.3.4\", \"failureMessage\": \"\", \"exceptionClass\": \"\", \"trace\": \"\"}}, \"*\")"
      ],
      "text/plain": [
       "<IPython.core.display.Javascript object>"
      ]
     },
     "metadata": {},
     "output_type": "display_data"
    },
    {
     "data": {
      "text/markdown": [
       "<span style=\"color:#33cc33\">Correct:</span> \n",
       "\n",
       "\n",
       "```python\n",
       "reviews_written = reviews.groupby('taster_twitter_handle').size()\n",
       "```\n",
       "or\n",
       "```python\n",
       "reviews_written = reviews.groupby('taster_twitter_handle').taster_twitter_handle.count()\n",
       "```\n"
      ],
      "text/plain": [
       "Correct: \n",
       "\n",
       "\n",
       "```python\n",
       "reviews_written = reviews.groupby('taster_twitter_handle').size()\n",
       "```\n",
       "or\n",
       "```python\n",
       "reviews_written = reviews.groupby('taster_twitter_handle').taster_twitter_handle.count()\n",
       "```"
      ]
     },
     "metadata": {},
     "output_type": "display_data"
    }
   ],
   "source": [
    "# Your code here\n",
    "reviews_written = reviews.groupby('taster_twitter_handle').size()\n",
    "\n",
    "# Check your answer\n",
    "q1.check()"
   ]
  },
  {
   "cell_type": "code",
   "execution_count": 3,
   "id": "555a4baf",
   "metadata": {
    "execution": {
     "iopub.execute_input": "2021-07-18T19:52:29.302102Z",
     "iopub.status.busy": "2021-07-18T19:52:29.301495Z",
     "iopub.status.idle": "2021-07-18T19:52:29.304473Z",
     "shell.execute_reply": "2021-07-18T19:52:29.305084Z",
     "shell.execute_reply.started": "2021-07-14T14:52:29.990639Z"
    },
    "papermill": {
     "duration": 0.025296,
     "end_time": "2021-07-18T19:52:29.305288",
     "exception": false,
     "start_time": "2021-07-18T19:52:29.279992",
     "status": "completed"
    },
    "tags": []
   },
   "outputs": [],
   "source": [
    "#q1.hint()\n",
    "#q1.solution()"
   ]
  },
  {
   "cell_type": "markdown",
   "id": "4ffe05cf",
   "metadata": {
    "papermill": {
     "duration": 0.018592,
     "end_time": "2021-07-18T19:52:29.343423",
     "exception": false,
     "start_time": "2021-07-18T19:52:29.324831",
     "status": "completed"
    },
    "tags": []
   },
   "source": [
    "## 2.\n",
    "What is the best wine I can buy for a given amount of money? Create a `Series` whose index is wine prices and whose values is the maximum number of points a wine costing that much was given in a review. Sort the values by price, ascending (so that `4.0` dollars is at the top and `3300.0` dollars is at the bottom)."
   ]
  },
  {
   "cell_type": "code",
   "execution_count": 4,
   "id": "f0c1b2f0",
   "metadata": {
    "execution": {
     "iopub.execute_input": "2021-07-18T19:52:29.387429Z",
     "iopub.status.busy": "2021-07-18T19:52:29.386735Z",
     "iopub.status.idle": "2021-07-18T19:52:29.398103Z",
     "shell.execute_reply": "2021-07-18T19:52:29.397506Z",
     "shell.execute_reply.started": "2021-07-14T14:52:29.995074Z"
    },
    "papermill": {
     "duration": 0.035786,
     "end_time": "2021-07-18T19:52:29.398250",
     "exception": false,
     "start_time": "2021-07-18T19:52:29.362464",
     "status": "completed"
    },
    "tags": []
   },
   "outputs": [
    {
     "data": {
      "application/javascript": [
       "parent.postMessage({\"jupyterEvent\": \"custom.exercise_interaction\", \"data\": {\"outcomeType\": 1, \"valueTowardsCompletion\": 0.16666666666666666, \"interactionType\": 1, \"questionType\": 1, \"questionId\": \"2_BestRatingPerPrice\", \"learnToolsVersion\": \"0.3.4\", \"failureMessage\": \"\", \"exceptionClass\": \"\", \"trace\": \"\"}}, \"*\")"
      ],
      "text/plain": [
       "<IPython.core.display.Javascript object>"
      ]
     },
     "metadata": {},
     "output_type": "display_data"
    },
    {
     "data": {
      "text/markdown": [
       "<span style=\"color:#33cc33\">Correct</span>"
      ],
      "text/plain": [
       "Correct"
      ]
     },
     "metadata": {},
     "output_type": "display_data"
    }
   ],
   "source": [
    "best_rating_per_price = reviews.groupby('price')['points'].max().sort_index()\n",
    "\n",
    "# Check your answer\n",
    "q2.check()"
   ]
  },
  {
   "cell_type": "code",
   "execution_count": 5,
   "id": "7a04b0eb",
   "metadata": {
    "execution": {
     "iopub.execute_input": "2021-07-18T19:52:29.441387Z",
     "iopub.status.busy": "2021-07-18T19:52:29.440746Z",
     "iopub.status.idle": "2021-07-18T19:52:29.444187Z",
     "shell.execute_reply": "2021-07-18T19:52:29.444711Z",
     "shell.execute_reply.started": "2021-07-14T14:52:30.018014Z"
    },
    "papermill": {
     "duration": 0.026472,
     "end_time": "2021-07-18T19:52:29.444874",
     "exception": false,
     "start_time": "2021-07-18T19:52:29.418402",
     "status": "completed"
    },
    "tags": []
   },
   "outputs": [],
   "source": [
    "#q2.hint()\n",
    "#q2.solution()"
   ]
  },
  {
   "cell_type": "markdown",
   "id": "99ae6182",
   "metadata": {
    "papermill": {
     "duration": 0.019641,
     "end_time": "2021-07-18T19:52:29.484547",
     "exception": false,
     "start_time": "2021-07-18T19:52:29.464906",
     "status": "completed"
    },
    "tags": []
   },
   "source": [
    "## 3.\n",
    "What are the minimum and maximum prices for each `variety` of wine? Create a `DataFrame` whose index is the `variety` category from the dataset and whose values are the `min` and `max` values thereof."
   ]
  },
  {
   "cell_type": "code",
   "execution_count": 6,
   "id": "bcdfcff4",
   "metadata": {
    "execution": {
     "iopub.execute_input": "2021-07-18T19:52:29.527340Z",
     "iopub.status.busy": "2021-07-18T19:52:29.526692Z",
     "iopub.status.idle": "2021-07-18T19:52:29.562621Z",
     "shell.execute_reply": "2021-07-18T19:52:29.563089Z",
     "shell.execute_reply.started": "2021-07-14T14:52:30.023451Z"
    },
    "papermill": {
     "duration": 0.058942,
     "end_time": "2021-07-18T19:52:29.563313",
     "exception": false,
     "start_time": "2021-07-18T19:52:29.504371",
     "status": "completed"
    },
    "tags": []
   },
   "outputs": [
    {
     "data": {
      "application/javascript": [
       "parent.postMessage({\"jupyterEvent\": \"custom.exercise_interaction\", \"data\": {\"outcomeType\": 1, \"valueTowardsCompletion\": 0.16666666666666666, \"interactionType\": 1, \"questionType\": 1, \"questionId\": \"3_PriceExtremes\", \"learnToolsVersion\": \"0.3.4\", \"failureMessage\": \"\", \"exceptionClass\": \"\", \"trace\": \"\"}}, \"*\")"
      ],
      "text/plain": [
       "<IPython.core.display.Javascript object>"
      ]
     },
     "metadata": {},
     "output_type": "display_data"
    },
    {
     "data": {
      "text/markdown": [
       "<span style=\"color:#33cc33\">Correct</span>"
      ],
      "text/plain": [
       "Correct"
      ]
     },
     "metadata": {},
     "output_type": "display_data"
    }
   ],
   "source": [
    "price_extremes = reviews.groupby('variety').price.agg([min, max])\n",
    "\n",
    "# Check your answer\n",
    "q3.check()"
   ]
  },
  {
   "cell_type": "code",
   "execution_count": 7,
   "id": "74802f1a",
   "metadata": {
    "execution": {
     "iopub.execute_input": "2021-07-18T19:52:29.608183Z",
     "iopub.status.busy": "2021-07-18T19:52:29.607542Z",
     "iopub.status.idle": "2021-07-18T19:52:29.610773Z",
     "shell.execute_reply": "2021-07-18T19:52:29.611287Z",
     "shell.execute_reply.started": "2021-07-14T14:52:30.069257Z"
    },
    "papermill": {
     "duration": 0.027177,
     "end_time": "2021-07-18T19:52:29.611457",
     "exception": false,
     "start_time": "2021-07-18T19:52:29.584280",
     "status": "completed"
    },
    "tags": []
   },
   "outputs": [],
   "source": [
    "#q3.hint()\n",
    "#q3.solution()"
   ]
  },
  {
   "cell_type": "markdown",
   "id": "6438aa04",
   "metadata": {
    "papermill": {
     "duration": 0.020672,
     "end_time": "2021-07-18T19:52:29.654461",
     "exception": false,
     "start_time": "2021-07-18T19:52:29.633789",
     "status": "completed"
    },
    "tags": []
   },
   "source": [
    "## 4.\n",
    "What are the most expensive wine varieties? Create a variable `sorted_varieties` containing a copy of the dataframe from the previous question where varieties are sorted in descending order based on minimum price, then on maximum price (to break ties)."
   ]
  },
  {
   "cell_type": "code",
   "execution_count": 8,
   "id": "ba174a9c",
   "metadata": {
    "execution": {
     "iopub.execute_input": "2021-07-18T19:52:29.701616Z",
     "iopub.status.busy": "2021-07-18T19:52:29.700928Z",
     "iopub.status.idle": "2021-07-18T19:52:29.709820Z",
     "shell.execute_reply": "2021-07-18T19:52:29.710328Z",
     "shell.execute_reply.started": "2021-07-14T14:52:30.075522Z"
    },
    "papermill": {
     "duration": 0.035119,
     "end_time": "2021-07-18T19:52:29.710496",
     "exception": false,
     "start_time": "2021-07-18T19:52:29.675377",
     "status": "completed"
    },
    "tags": []
   },
   "outputs": [
    {
     "data": {
      "application/javascript": [
       "parent.postMessage({\"jupyterEvent\": \"custom.exercise_interaction\", \"data\": {\"outcomeType\": 1, \"valueTowardsCompletion\": 0.16666666666666666, \"interactionType\": 1, \"questionType\": 1, \"questionId\": \"4_SortedVarieties\", \"learnToolsVersion\": \"0.3.4\", \"failureMessage\": \"\", \"exceptionClass\": \"\", \"trace\": \"\"}}, \"*\")"
      ],
      "text/plain": [
       "<IPython.core.display.Javascript object>"
      ]
     },
     "metadata": {},
     "output_type": "display_data"
    },
    {
     "data": {
      "text/markdown": [
       "<span style=\"color:#33cc33\">Correct</span>"
      ],
      "text/plain": [
       "Correct"
      ]
     },
     "metadata": {},
     "output_type": "display_data"
    }
   ],
   "source": [
    "\n",
    "sorted_varieties = price_extremes.sort_values(by=['min', 'max'], ascending=False)\n",
    "# Check your answer\n",
    "q4.check()"
   ]
  },
  {
   "cell_type": "code",
   "execution_count": 9,
   "id": "f51cb099",
   "metadata": {
    "execution": {
     "iopub.execute_input": "2021-07-18T19:52:29.757993Z",
     "iopub.status.busy": "2021-07-18T19:52:29.757322Z",
     "iopub.status.idle": "2021-07-18T19:52:29.761545Z",
     "shell.execute_reply": "2021-07-18T19:52:29.760990Z",
     "shell.execute_reply.started": "2021-07-14T14:52:30.096315Z"
    },
    "papermill": {
     "duration": 0.028751,
     "end_time": "2021-07-18T19:52:29.761699",
     "exception": false,
     "start_time": "2021-07-18T19:52:29.732948",
     "status": "completed"
    },
    "tags": []
   },
   "outputs": [],
   "source": [
    "#q4.hint()\n",
    "#q4.solution()"
   ]
  },
  {
   "cell_type": "markdown",
   "id": "7156671d",
   "metadata": {
    "papermill": {
     "duration": 0.021668,
     "end_time": "2021-07-18T19:52:29.805264",
     "exception": false,
     "start_time": "2021-07-18T19:52:29.783596",
     "status": "completed"
    },
    "tags": []
   },
   "source": [
    "## 5.\n",
    "Create a `Series` whose index is reviewers and whose values is the average review score given out by that reviewer. Hint: you will need the `taster_name` and `points` columns."
   ]
  },
  {
   "cell_type": "code",
   "execution_count": 10,
   "id": "18caece7",
   "metadata": {
    "execution": {
     "iopub.execute_input": "2021-07-18T19:52:29.853935Z",
     "iopub.status.busy": "2021-07-18T19:52:29.853340Z",
     "iopub.status.idle": "2021-07-18T19:52:29.879088Z",
     "shell.execute_reply": "2021-07-18T19:52:29.879570Z",
     "shell.execute_reply.started": "2021-07-14T14:52:30.102193Z"
    },
    "papermill": {
     "duration": 0.052486,
     "end_time": "2021-07-18T19:52:29.879753",
     "exception": false,
     "start_time": "2021-07-18T19:52:29.827267",
     "status": "completed"
    },
    "tags": []
   },
   "outputs": [
    {
     "data": {
      "application/javascript": [
       "parent.postMessage({\"jupyterEvent\": \"custom.exercise_interaction\", \"data\": {\"outcomeType\": 1, \"valueTowardsCompletion\": 0.16666666666666666, \"interactionType\": 1, \"questionType\": 1, \"questionId\": \"5_ReviewerMeanRatings\", \"learnToolsVersion\": \"0.3.4\", \"failureMessage\": \"\", \"exceptionClass\": \"\", \"trace\": \"\"}}, \"*\")"
      ],
      "text/plain": [
       "<IPython.core.display.Javascript object>"
      ]
     },
     "metadata": {},
     "output_type": "display_data"
    },
    {
     "data": {
      "text/markdown": [
       "<span style=\"color:#33cc33\">Correct</span>"
      ],
      "text/plain": [
       "Correct"
      ]
     },
     "metadata": {},
     "output_type": "display_data"
    }
   ],
   "source": [
    "reviewer_mean_ratings = reviews.groupby('taster_name').points.mean()\n",
    "# Check your answer\n",
    "q5.check()"
   ]
  },
  {
   "cell_type": "code",
   "execution_count": 11,
   "id": "fc7d6faa",
   "metadata": {
    "execution": {
     "iopub.execute_input": "2021-07-18T19:52:29.930370Z",
     "iopub.status.busy": "2021-07-18T19:52:29.929370Z",
     "iopub.status.idle": "2021-07-18T19:52:29.932480Z",
     "shell.execute_reply": "2021-07-18T19:52:29.931946Z",
     "shell.execute_reply.started": "2021-07-14T14:52:30.140969Z"
    },
    "papermill": {
     "duration": 0.029435,
     "end_time": "2021-07-18T19:52:29.932615",
     "exception": false,
     "start_time": "2021-07-18T19:52:29.903180",
     "status": "completed"
    },
    "tags": []
   },
   "outputs": [],
   "source": [
    "#q5.hint()\n",
    "#q5.solution()"
   ]
  },
  {
   "cell_type": "markdown",
   "id": "6bd99f0c",
   "metadata": {
    "papermill": {
     "duration": 0.023172,
     "end_time": "2021-07-18T19:52:29.979730",
     "exception": false,
     "start_time": "2021-07-18T19:52:29.956558",
     "status": "completed"
    },
    "tags": []
   },
   "source": [
    "Are there significant differences in the average scores assigned by the various reviewers? Run the cell below to use the `describe()` method to see a summary of the range of values."
   ]
  },
  {
   "cell_type": "code",
   "execution_count": 12,
   "id": "4e311fe3",
   "metadata": {
    "execution": {
     "iopub.execute_input": "2021-07-18T19:52:30.032531Z",
     "iopub.status.busy": "2021-07-18T19:52:30.031722Z",
     "iopub.status.idle": "2021-07-18T19:52:30.043394Z",
     "shell.execute_reply": "2021-07-18T19:52:30.043976Z",
     "shell.execute_reply.started": "2021-07-14T14:52:30.148048Z"
    },
    "papermill": {
     "duration": 0.040592,
     "end_time": "2021-07-18T19:52:30.044286",
     "exception": false,
     "start_time": "2021-07-18T19:52:30.003694",
     "status": "completed"
    },
    "tags": []
   },
   "outputs": [
    {
     "data": {
      "text/plain": [
       "count    19.000000\n",
       "mean     88.233026\n",
       "std       1.243610\n",
       "min      85.855422\n",
       "25%      87.323501\n",
       "50%      88.536235\n",
       "75%      88.975256\n",
       "max      90.562551\n",
       "Name: points, dtype: float64"
      ]
     },
     "execution_count": 12,
     "metadata": {},
     "output_type": "execute_result"
    }
   ],
   "source": [
    "reviewer_mean_ratings.describe()"
   ]
  },
  {
   "cell_type": "markdown",
   "id": "9e430602",
   "metadata": {
    "papermill": {
     "duration": 0.023355,
     "end_time": "2021-07-18T19:52:30.090859",
     "exception": false,
     "start_time": "2021-07-18T19:52:30.067504",
     "status": "completed"
    },
    "tags": []
   },
   "source": [
    "## 6.\n",
    "What combination of countries and varieties are most common? Create a `Series` whose index is a `MultiIndex`of `{country, variety}` pairs. For example, a pinot noir produced in the US should map to `{\"US\", \"Pinot Noir\"}`. Sort the values in the `Series` in descending order based on wine count."
   ]
  },
  {
   "cell_type": "code",
   "execution_count": 13,
   "id": "7367e4be",
   "metadata": {
    "execution": {
     "iopub.execute_input": "2021-07-18T19:52:30.139895Z",
     "iopub.status.busy": "2021-07-18T19:52:30.139306Z",
     "iopub.status.idle": "2021-07-18T19:52:30.187099Z",
     "shell.execute_reply": "2021-07-18T19:52:30.187612Z",
     "shell.execute_reply.started": "2021-07-14T14:52:30.171588Z"
    },
    "papermill": {
     "duration": 0.073838,
     "end_time": "2021-07-18T19:52:30.187784",
     "exception": false,
     "start_time": "2021-07-18T19:52:30.113946",
     "status": "completed"
    },
    "tags": []
   },
   "outputs": [
    {
     "data": {
      "application/javascript": [
       "parent.postMessage({\"jupyterEvent\": \"custom.exercise_interaction\", \"data\": {\"outcomeType\": 1, \"valueTowardsCompletion\": 0.16666666666666666, \"interactionType\": 1, \"questionType\": 1, \"questionId\": \"6_GroupbyCountryVariety\", \"learnToolsVersion\": \"0.3.4\", \"failureMessage\": \"\", \"exceptionClass\": \"\", \"trace\": \"\"}}, \"*\")"
      ],
      "text/plain": [
       "<IPython.core.display.Javascript object>"
      ]
     },
     "metadata": {},
     "output_type": "display_data"
    },
    {
     "data": {
      "text/markdown": [
       "<span style=\"color:#33cc33\">Correct</span>"
      ],
      "text/plain": [
       "Correct"
      ]
     },
     "metadata": {},
     "output_type": "display_data"
    }
   ],
   "source": [
    "country_variety_counts = reviews.groupby(['country', 'variety']).size().sort_values(ascending=False)\n",
    "\n",
    "# Check your answer\n",
    "q6.check()"
   ]
  },
  {
   "cell_type": "code",
   "execution_count": 14,
   "id": "c5a66142",
   "metadata": {
    "execution": {
     "iopub.execute_input": "2021-07-18T19:52:30.239718Z",
     "iopub.status.busy": "2021-07-18T19:52:30.239073Z",
     "iopub.status.idle": "2021-07-18T19:52:30.240876Z",
     "shell.execute_reply": "2021-07-18T19:52:30.241427Z",
     "shell.execute_reply.started": "2021-07-14T14:52:30.226922Z"
    },
    "papermill": {
     "duration": 0.029806,
     "end_time": "2021-07-18T19:52:30.241599",
     "exception": false,
     "start_time": "2021-07-18T19:52:30.211793",
     "status": "completed"
    },
    "tags": []
   },
   "outputs": [],
   "source": [
    "#q6.hint()\n",
    "#q6.solution()"
   ]
  },
  {
   "cell_type": "markdown",
   "id": "4fd839ab",
   "metadata": {
    "papermill": {
     "duration": 0.023645,
     "end_time": "2021-07-18T19:52:30.289304",
     "exception": false,
     "start_time": "2021-07-18T19:52:30.265659",
     "status": "completed"
    },
    "tags": []
   },
   "source": [
    "# Keep going\n",
    "\n",
    "Move on to the [**data types and missing data**](https://www.kaggle.com/residentmario/data-types-and-missing-values)."
   ]
  },
  {
   "cell_type": "markdown",
   "id": "b9f730ae",
   "metadata": {
    "papermill": {
     "duration": 0.024308,
     "end_time": "2021-07-18T19:52:30.337915",
     "exception": false,
     "start_time": "2021-07-18T19:52:30.313607",
     "status": "completed"
    },
    "tags": []
   },
   "source": [
    "---\n",
    "\n",
    "\n",
    "\n",
    "\n",
    "*Have questions or comments? Visit the [Learn Discussion forum](https://www.kaggle.com/learn-forum/161299) to chat with other Learners.*"
   ]
  }
 ],
 "metadata": {
  "kernelspec": {
   "display_name": "Python 3",
   "language": "python",
   "name": "python3"
  },
  "language_info": {
   "codemirror_mode": {
    "name": "ipython",
    "version": 3
   },
   "file_extension": ".py",
   "mimetype": "text/x-python",
   "name": "python",
   "nbconvert_exporter": "python",
   "pygments_lexer": "ipython3",
   "version": "3.7.10"
  },
  "papermill": {
   "default_parameters": {},
   "duration": 13.632005,
   "end_time": "2021-07-18T19:52:31.071713",
   "environment_variables": {},
   "exception": null,
   "input_path": "__notebook__.ipynb",
   "output_path": "__notebook__.ipynb",
   "parameters": {},
   "start_time": "2021-07-18T19:52:17.439708",
   "version": "2.3.3"
  }
 },
 "nbformat": 4,
 "nbformat_minor": 5
}
