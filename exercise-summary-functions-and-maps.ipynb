{
 "cells": [
  {
   "cell_type": "markdown",
   "id": "09f8a00a",
   "metadata": {
    "papermill": {
     "duration": 0.019226,
     "end_time": "2021-07-18T19:50:52.649790",
     "exception": false,
     "start_time": "2021-07-18T19:50:52.630564",
     "status": "completed"
    },
    "tags": []
   },
   "source": [
    "**This notebook is an exercise in the [Pandas](https://www.kaggle.com/learn/pandas) course.  You can reference the tutorial at [this link](https://www.kaggle.com/residentmario/summary-functions-and-maps).**\n",
    "\n",
    "---\n"
   ]
  },
  {
   "cell_type": "markdown",
   "id": "e18908b1",
   "metadata": {
    "papermill": {
     "duration": 0.015994,
     "end_time": "2021-07-18T19:50:52.683085",
     "exception": false,
     "start_time": "2021-07-18T19:50:52.667091",
     "status": "completed"
    },
    "tags": []
   },
   "source": [
    "# Introduction\n",
    "\n",
    "Now you are ready to get a deeper understanding of your data.\n",
    "\n",
    "Run the following cell to load your data and some utility functions (including code to check your answers)."
   ]
  },
  {
   "cell_type": "code",
   "execution_count": 1,
   "id": "578dc57d",
   "metadata": {
    "execution": {
     "iopub.execute_input": "2021-07-18T19:50:52.727493Z",
     "iopub.status.busy": "2021-07-18T19:50:52.723673Z",
     "iopub.status.idle": "2021-07-18T19:51:00.859240Z",
     "shell.execute_reply": "2021-07-18T19:51:00.858476Z",
     "shell.execute_reply.started": "2021-07-14T14:46:46.111074Z"
    },
    "papermill": {
     "duration": 8.16007,
     "end_time": "2021-07-18T19:51:00.859430",
     "exception": false,
     "start_time": "2021-07-18T19:50:52.699360",
     "status": "completed"
    },
    "tags": []
   },
   "outputs": [
    {
     "name": "stdout",
     "output_type": "stream",
     "text": [
      "Setup complete.\n"
     ]
    },
    {
     "data": {
      "text/html": [
       "<div>\n",
       "<style scoped>\n",
       "    .dataframe tbody tr th:only-of-type {\n",
       "        vertical-align: middle;\n",
       "    }\n",
       "\n",
       "    .dataframe tbody tr th {\n",
       "        vertical-align: top;\n",
       "    }\n",
       "\n",
       "    .dataframe thead th {\n",
       "        text-align: right;\n",
       "    }\n",
       "</style>\n",
       "<table border=\"1\" class=\"dataframe\">\n",
       "  <thead>\n",
       "    <tr style=\"text-align: right;\">\n",
       "      <th></th>\n",
       "      <th>country</th>\n",
       "      <th>description</th>\n",
       "      <th>designation</th>\n",
       "      <th>points</th>\n",
       "      <th>price</th>\n",
       "      <th>province</th>\n",
       "      <th>region_1</th>\n",
       "      <th>region_2</th>\n",
       "      <th>taster_name</th>\n",
       "      <th>taster_twitter_handle</th>\n",
       "      <th>title</th>\n",
       "      <th>variety</th>\n",
       "      <th>winery</th>\n",
       "    </tr>\n",
       "  </thead>\n",
       "  <tbody>\n",
       "    <tr>\n",
       "      <th>0</th>\n",
       "      <td>Italy</td>\n",
       "      <td>Aromas include tropical fruit, broom, brimston...</td>\n",
       "      <td>Vulkà Bianco</td>\n",
       "      <td>87</td>\n",
       "      <td>NaN</td>\n",
       "      <td>Sicily &amp; Sardinia</td>\n",
       "      <td>Etna</td>\n",
       "      <td>NaN</td>\n",
       "      <td>Kerin O’Keefe</td>\n",
       "      <td>@kerinokeefe</td>\n",
       "      <td>Nicosia 2013 Vulkà Bianco  (Etna)</td>\n",
       "      <td>White Blend</td>\n",
       "      <td>Nicosia</td>\n",
       "    </tr>\n",
       "    <tr>\n",
       "      <th>1</th>\n",
       "      <td>Portugal</td>\n",
       "      <td>This is ripe and fruity, a wine that is smooth...</td>\n",
       "      <td>Avidagos</td>\n",
       "      <td>87</td>\n",
       "      <td>15.0</td>\n",
       "      <td>Douro</td>\n",
       "      <td>NaN</td>\n",
       "      <td>NaN</td>\n",
       "      <td>Roger Voss</td>\n",
       "      <td>@vossroger</td>\n",
       "      <td>Quinta dos Avidagos 2011 Avidagos Red (Douro)</td>\n",
       "      <td>Portuguese Red</td>\n",
       "      <td>Quinta dos Avidagos</td>\n",
       "    </tr>\n",
       "    <tr>\n",
       "      <th>2</th>\n",
       "      <td>US</td>\n",
       "      <td>Tart and snappy, the flavors of lime flesh and...</td>\n",
       "      <td>NaN</td>\n",
       "      <td>87</td>\n",
       "      <td>14.0</td>\n",
       "      <td>Oregon</td>\n",
       "      <td>Willamette Valley</td>\n",
       "      <td>Willamette Valley</td>\n",
       "      <td>Paul Gregutt</td>\n",
       "      <td>@paulgwine</td>\n",
       "      <td>Rainstorm 2013 Pinot Gris (Willamette Valley)</td>\n",
       "      <td>Pinot Gris</td>\n",
       "      <td>Rainstorm</td>\n",
       "    </tr>\n",
       "    <tr>\n",
       "      <th>3</th>\n",
       "      <td>US</td>\n",
       "      <td>Pineapple rind, lemon pith and orange blossom ...</td>\n",
       "      <td>Reserve Late Harvest</td>\n",
       "      <td>87</td>\n",
       "      <td>13.0</td>\n",
       "      <td>Michigan</td>\n",
       "      <td>Lake Michigan Shore</td>\n",
       "      <td>NaN</td>\n",
       "      <td>Alexander Peartree</td>\n",
       "      <td>NaN</td>\n",
       "      <td>St. Julian 2013 Reserve Late Harvest Riesling ...</td>\n",
       "      <td>Riesling</td>\n",
       "      <td>St. Julian</td>\n",
       "    </tr>\n",
       "    <tr>\n",
       "      <th>4</th>\n",
       "      <td>US</td>\n",
       "      <td>Much like the regular bottling from 2012, this...</td>\n",
       "      <td>Vintner's Reserve Wild Child Block</td>\n",
       "      <td>87</td>\n",
       "      <td>65.0</td>\n",
       "      <td>Oregon</td>\n",
       "      <td>Willamette Valley</td>\n",
       "      <td>Willamette Valley</td>\n",
       "      <td>Paul Gregutt</td>\n",
       "      <td>@paulgwine</td>\n",
       "      <td>Sweet Cheeks 2012 Vintner's Reserve Wild Child...</td>\n",
       "      <td>Pinot Noir</td>\n",
       "      <td>Sweet Cheeks</td>\n",
       "    </tr>\n",
       "  </tbody>\n",
       "</table>\n",
       "</div>"
      ],
      "text/plain": [
       "    country                                        description  \\\n",
       "0     Italy  Aromas include tropical fruit, broom, brimston...   \n",
       "1  Portugal  This is ripe and fruity, a wine that is smooth...   \n",
       "2        US  Tart and snappy, the flavors of lime flesh and...   \n",
       "3        US  Pineapple rind, lemon pith and orange blossom ...   \n",
       "4        US  Much like the regular bottling from 2012, this...   \n",
       "\n",
       "                          designation  points  price           province  \\\n",
       "0                        Vulkà Bianco      87    NaN  Sicily & Sardinia   \n",
       "1                            Avidagos      87   15.0              Douro   \n",
       "2                                 NaN      87   14.0             Oregon   \n",
       "3                Reserve Late Harvest      87   13.0           Michigan   \n",
       "4  Vintner's Reserve Wild Child Block      87   65.0             Oregon   \n",
       "\n",
       "              region_1           region_2         taster_name  \\\n",
       "0                 Etna                NaN       Kerin O’Keefe   \n",
       "1                  NaN                NaN          Roger Voss   \n",
       "2    Willamette Valley  Willamette Valley        Paul Gregutt   \n",
       "3  Lake Michigan Shore                NaN  Alexander Peartree   \n",
       "4    Willamette Valley  Willamette Valley        Paul Gregutt   \n",
       "\n",
       "  taster_twitter_handle                                              title  \\\n",
       "0          @kerinokeefe                  Nicosia 2013 Vulkà Bianco  (Etna)   \n",
       "1            @vossroger      Quinta dos Avidagos 2011 Avidagos Red (Douro)   \n",
       "2           @paulgwine       Rainstorm 2013 Pinot Gris (Willamette Valley)   \n",
       "3                   NaN  St. Julian 2013 Reserve Late Harvest Riesling ...   \n",
       "4           @paulgwine   Sweet Cheeks 2012 Vintner's Reserve Wild Child...   \n",
       "\n",
       "          variety               winery  \n",
       "0     White Blend              Nicosia  \n",
       "1  Portuguese Red  Quinta dos Avidagos  \n",
       "2      Pinot Gris            Rainstorm  \n",
       "3        Riesling           St. Julian  \n",
       "4      Pinot Noir         Sweet Cheeks  "
      ]
     },
     "execution_count": 1,
     "metadata": {},
     "output_type": "execute_result"
    }
   ],
   "source": [
    "import pandas as pd\n",
    "pd.set_option(\"display.max_rows\", 5)\n",
    "reviews = pd.read_csv(\"../input/wine-reviews/winemag-data-130k-v2.csv\", index_col=0)\n",
    "\n",
    "from learntools.core import binder; binder.bind(globals())\n",
    "from learntools.pandas.summary_functions_and_maps import *\n",
    "print(\"Setup complete.\")\n",
    "\n",
    "reviews.head()"
   ]
  },
  {
   "cell_type": "markdown",
   "id": "6395a243",
   "metadata": {
    "papermill": {
     "duration": 0.018302,
     "end_time": "2021-07-18T19:51:00.898603",
     "exception": false,
     "start_time": "2021-07-18T19:51:00.880301",
     "status": "completed"
    },
    "tags": []
   },
   "source": [
    "# Exercises"
   ]
  },
  {
   "cell_type": "markdown",
   "id": "6e44ae7f",
   "metadata": {
    "papermill": {
     "duration": 0.018863,
     "end_time": "2021-07-18T19:51:00.935956",
     "exception": false,
     "start_time": "2021-07-18T19:51:00.917093",
     "status": "completed"
    },
    "tags": []
   },
   "source": [
    "## 1.\n",
    "\n",
    "What is the median of the `points` column in the `reviews` DataFrame?"
   ]
  },
  {
   "cell_type": "code",
   "execution_count": 2,
   "id": "6ad45c2d",
   "metadata": {
    "execution": {
     "iopub.execute_input": "2021-07-18T19:51:00.978543Z",
     "iopub.status.busy": "2021-07-18T19:51:00.977789Z",
     "iopub.status.idle": "2021-07-18T19:51:00.985047Z",
     "shell.execute_reply": "2021-07-18T19:51:00.985572Z",
     "shell.execute_reply.started": "2021-07-14T14:47:19.186555Z"
    },
    "papermill": {
     "duration": 0.030397,
     "end_time": "2021-07-18T19:51:00.985708",
     "exception": false,
     "start_time": "2021-07-18T19:51:00.955311",
     "status": "completed"
    },
    "tags": []
   },
   "outputs": [
    {
     "data": {
      "application/javascript": [
       "parent.postMessage({\"jupyterEvent\": \"custom.exercise_interaction\", \"data\": {\"outcomeType\": 1, \"valueTowardsCompletion\": 0.14285714285714285, \"interactionType\": 1, \"questionType\": 1, \"questionId\": \"1_MedianPoints\", \"learnToolsVersion\": \"0.3.4\", \"failureMessage\": \"\", \"exceptionClass\": \"\", \"trace\": \"\"}}, \"*\")"
      ],
      "text/plain": [
       "<IPython.core.display.Javascript object>"
      ]
     },
     "metadata": {},
     "output_type": "display_data"
    },
    {
     "data": {
      "text/markdown": [
       "<span style=\"color:#33cc33\">Correct</span>"
      ],
      "text/plain": [
       "Correct"
      ]
     },
     "metadata": {},
     "output_type": "display_data"
    }
   ],
   "source": [
    "median_points =reviews.points.median()\n",
    "\n",
    "# Check your answer\n",
    "q1.check()\n"
   ]
  },
  {
   "cell_type": "code",
   "execution_count": 3,
   "id": "2342c640",
   "metadata": {
    "execution": {
     "iopub.execute_input": "2021-07-18T19:51:01.028030Z",
     "iopub.status.busy": "2021-07-18T19:51:01.027119Z",
     "iopub.status.idle": "2021-07-18T19:51:01.029981Z",
     "shell.execute_reply": "2021-07-18T19:51:01.029472Z",
     "shell.execute_reply.started": "2021-07-14T14:47:14.563731Z"
    },
    "papermill": {
     "duration": 0.025668,
     "end_time": "2021-07-18T19:51:01.030102",
     "exception": false,
     "start_time": "2021-07-18T19:51:01.004434",
     "status": "completed"
    },
    "tags": []
   },
   "outputs": [],
   "source": [
    "#q1.hint()\n",
    "#q1.solution()"
   ]
  },
  {
   "cell_type": "markdown",
   "id": "3bf6e303",
   "metadata": {
    "papermill": {
     "duration": 0.01882,
     "end_time": "2021-07-18T19:51:01.069003",
     "exception": false,
     "start_time": "2021-07-18T19:51:01.050183",
     "status": "completed"
    },
    "tags": []
   },
   "source": [
    "## 2. \n",
    "What countries are represented in the dataset? (Your answer should not include any duplicates.)"
   ]
  },
  {
   "cell_type": "code",
   "execution_count": 4,
   "id": "d4ad2590",
   "metadata": {
    "execution": {
     "iopub.execute_input": "2021-07-18T19:51:01.110279Z",
     "iopub.status.busy": "2021-07-18T19:51:01.109718Z",
     "iopub.status.idle": "2021-07-18T19:51:01.127989Z",
     "shell.execute_reply": "2021-07-18T19:51:01.128512Z",
     "shell.execute_reply.started": "2021-07-14T14:47:23.805765Z"
    },
    "papermill": {
     "duration": 0.040188,
     "end_time": "2021-07-18T19:51:01.128682",
     "exception": false,
     "start_time": "2021-07-18T19:51:01.088494",
     "status": "completed"
    },
    "tags": []
   },
   "outputs": [
    {
     "data": {
      "application/javascript": [
       "parent.postMessage({\"jupyterEvent\": \"custom.exercise_interaction\", \"data\": {\"outcomeType\": 1, \"valueTowardsCompletion\": 0.14285714285714285, \"interactionType\": 1, \"questionType\": 2, \"questionId\": \"2_UniqueCountries\", \"learnToolsVersion\": \"0.3.4\", \"failureMessage\": \"\", \"exceptionClass\": \"\", \"trace\": \"\"}}, \"*\")"
      ],
      "text/plain": [
       "<IPython.core.display.Javascript object>"
      ]
     },
     "metadata": {},
     "output_type": "display_data"
    },
    {
     "data": {
      "text/markdown": [
       "<span style=\"color:#33cc33\">Correct</span>"
      ],
      "text/plain": [
       "Correct"
      ]
     },
     "metadata": {},
     "output_type": "display_data"
    }
   ],
   "source": [
    "countries = reviews.country.unique()\n",
    "\n",
    "q2.check()\n"
   ]
  },
  {
   "cell_type": "code",
   "execution_count": 5,
   "id": "3254e9ee",
   "metadata": {
    "execution": {
     "iopub.execute_input": "2021-07-18T19:51:01.173785Z",
     "iopub.status.busy": "2021-07-18T19:51:01.172948Z",
     "iopub.status.idle": "2021-07-18T19:51:01.176052Z",
     "shell.execute_reply": "2021-07-18T19:51:01.176587Z",
     "shell.execute_reply.started": "2021-06-03T12:02:16.357758Z"
    },
    "papermill": {
     "duration": 0.026346,
     "end_time": "2021-07-18T19:51:01.176734",
     "exception": false,
     "start_time": "2021-07-18T19:51:01.150388",
     "status": "completed"
    },
    "tags": []
   },
   "outputs": [],
   "source": [
    "#q2.hint()\n",
    "#q2.solution()"
   ]
  },
  {
   "cell_type": "markdown",
   "id": "d74f88cf",
   "metadata": {
    "papermill": {
     "duration": 0.02058,
     "end_time": "2021-07-18T19:51:01.217528",
     "exception": false,
     "start_time": "2021-07-18T19:51:01.196948",
     "status": "completed"
    },
    "tags": []
   },
   "source": [
    "## 3.\n",
    "How often does each country appear in the dataset? Create a Series `reviews_per_country` mapping countries to the count of reviews of wines from that country."
   ]
  },
  {
   "cell_type": "code",
   "execution_count": 6,
   "id": "02a64bff",
   "metadata": {
    "execution": {
     "iopub.execute_input": "2021-07-18T19:51:01.263489Z",
     "iopub.status.busy": "2021-07-18T19:51:01.262502Z",
     "iopub.status.idle": "2021-07-18T19:51:01.298811Z",
     "shell.execute_reply": "2021-07-18T19:51:01.299277Z",
     "shell.execute_reply.started": "2021-07-14T14:47:27.421055Z"
    },
    "papermill": {
     "duration": 0.060434,
     "end_time": "2021-07-18T19:51:01.299447",
     "exception": false,
     "start_time": "2021-07-18T19:51:01.239013",
     "status": "completed"
    },
    "tags": []
   },
   "outputs": [
    {
     "data": {
      "application/javascript": [
       "parent.postMessage({\"jupyterEvent\": \"custom.exercise_interaction\", \"data\": {\"outcomeType\": 1, \"valueTowardsCompletion\": 0.14285714285714285, \"interactionType\": 1, \"questionType\": 1, \"questionId\": \"3_ReviewsPerCountry\", \"learnToolsVersion\": \"0.3.4\", \"failureMessage\": \"\", \"exceptionClass\": \"\", \"trace\": \"\"}}, \"*\")"
      ],
      "text/plain": [
       "<IPython.core.display.Javascript object>"
      ]
     },
     "metadata": {},
     "output_type": "display_data"
    },
    {
     "data": {
      "text/markdown": [
       "<span style=\"color:#33cc33\">Correct</span>"
      ],
      "text/plain": [
       "Correct"
      ]
     },
     "metadata": {},
     "output_type": "display_data"
    }
   ],
   "source": [
    "reviews_per_country = reviews.country.value_counts()\n",
    "\n",
    "# Check your answer\n",
    "q3.check()"
   ]
  },
  {
   "cell_type": "code",
   "execution_count": 7,
   "id": "e564ce65",
   "metadata": {
    "execution": {
     "iopub.execute_input": "2021-07-18T19:51:01.347734Z",
     "iopub.status.busy": "2021-07-18T19:51:01.346783Z",
     "iopub.status.idle": "2021-07-18T19:51:01.349965Z",
     "shell.execute_reply": "2021-07-18T19:51:01.350443Z",
     "shell.execute_reply.started": "2021-06-03T12:03:21.166648Z"
    },
    "papermill": {
     "duration": 0.028992,
     "end_time": "2021-07-18T19:51:01.350585",
     "exception": false,
     "start_time": "2021-07-18T19:51:01.321593",
     "status": "completed"
    },
    "tags": []
   },
   "outputs": [],
   "source": [
    "#q3.hint()\n",
    "#q3.solution()"
   ]
  },
  {
   "cell_type": "markdown",
   "id": "db7e7721",
   "metadata": {
    "papermill": {
     "duration": 0.020509,
     "end_time": "2021-07-18T19:51:01.392616",
     "exception": false,
     "start_time": "2021-07-18T19:51:01.372107",
     "status": "completed"
    },
    "tags": []
   },
   "source": [
    "## 4.\n",
    "Create variable `centered_price` containing a version of the `price` column with the mean price subtracted.\n",
    "\n",
    "(Note: this 'centering' transformation is a common preprocessing step before applying various machine learning algorithms.) "
   ]
  },
  {
   "cell_type": "code",
   "execution_count": 8,
   "id": "5e7cffd9",
   "metadata": {
    "execution": {
     "iopub.execute_input": "2021-07-18T19:51:01.441764Z",
     "iopub.status.busy": "2021-07-18T19:51:01.441079Z",
     "iopub.status.idle": "2021-07-18T19:51:01.447617Z",
     "shell.execute_reply": "2021-07-18T19:51:01.448087Z",
     "shell.execute_reply.started": "2021-07-14T14:47:31.04117Z"
    },
    "papermill": {
     "duration": 0.03363,
     "end_time": "2021-07-18T19:51:01.448269",
     "exception": false,
     "start_time": "2021-07-18T19:51:01.414639",
     "status": "completed"
    },
    "tags": []
   },
   "outputs": [
    {
     "data": {
      "application/javascript": [
       "parent.postMessage({\"jupyterEvent\": \"custom.exercise_interaction\", \"data\": {\"outcomeType\": 1, \"valueTowardsCompletion\": 0.14285714285714285, \"interactionType\": 1, \"questionType\": 1, \"questionId\": \"4_CenteredPrice\", \"learnToolsVersion\": \"0.3.4\", \"failureMessage\": \"\", \"exceptionClass\": \"\", \"trace\": \"\"}}, \"*\")"
      ],
      "text/plain": [
       "<IPython.core.display.Javascript object>"
      ]
     },
     "metadata": {},
     "output_type": "display_data"
    },
    {
     "data": {
      "text/markdown": [
       "<span style=\"color:#33cc33\">Correct</span>"
      ],
      "text/plain": [
       "Correct"
      ]
     },
     "metadata": {},
     "output_type": "display_data"
    }
   ],
   "source": [
    "centered_price = reviews.price -reviews.price.mean()\n",
    "# Check your answer\n",
    "q4.check()"
   ]
  },
  {
   "cell_type": "code",
   "execution_count": 9,
   "id": "4a154051",
   "metadata": {
    "execution": {
     "iopub.execute_input": "2021-07-18T19:51:01.495482Z",
     "iopub.status.busy": "2021-07-18T19:51:01.494854Z",
     "iopub.status.idle": "2021-07-18T19:51:01.497861Z",
     "shell.execute_reply": "2021-07-18T19:51:01.498329Z",
     "shell.execute_reply.started": "2021-06-03T12:05:34.354976Z"
    },
    "papermill": {
     "duration": 0.027659,
     "end_time": "2021-07-18T19:51:01.498471",
     "exception": false,
     "start_time": "2021-07-18T19:51:01.470812",
     "status": "completed"
    },
    "tags": []
   },
   "outputs": [],
   "source": [
    "#q4.hint()\n",
    "#q4.solution()"
   ]
  },
  {
   "cell_type": "markdown",
   "id": "2122d497",
   "metadata": {
    "papermill": {
     "duration": 0.023679,
     "end_time": "2021-07-18T19:51:01.545238",
     "exception": false,
     "start_time": "2021-07-18T19:51:01.521559",
     "status": "completed"
    },
    "tags": []
   },
   "source": [
    "## 5.\n",
    "I'm an economical wine buyer. Which wine is the \"best bargain\"? Create a variable `bargain_wine` with the title of the wine with the highest points-to-price ratio in the dataset."
   ]
  },
  {
   "cell_type": "code",
   "execution_count": 10,
   "id": "5a34eac8",
   "metadata": {
    "execution": {
     "iopub.execute_input": "2021-07-18T19:51:01.592879Z",
     "iopub.status.busy": "2021-07-18T19:51:01.592289Z",
     "iopub.status.idle": "2021-07-18T19:51:01.606587Z",
     "shell.execute_reply": "2021-07-18T19:51:01.607037Z",
     "shell.execute_reply.started": "2021-07-14T14:48:11.741004Z"
    },
    "papermill": {
     "duration": 0.039577,
     "end_time": "2021-07-18T19:51:01.607200",
     "exception": false,
     "start_time": "2021-07-18T19:51:01.567623",
     "status": "completed"
    },
    "tags": []
   },
   "outputs": [
    {
     "data": {
      "application/javascript": [
       "parent.postMessage({\"jupyterEvent\": \"custom.exercise_interaction\", \"data\": {\"outcomeType\": 1, \"valueTowardsCompletion\": 0.14285714285714285, \"interactionType\": 1, \"questionType\": 2, \"questionId\": \"5_BargainWine\", \"learnToolsVersion\": \"0.3.4\", \"failureMessage\": \"\", \"exceptionClass\": \"\", \"trace\": \"\"}}, \"*\")"
      ],
      "text/plain": [
       "<IPython.core.display.Javascript object>"
      ]
     },
     "metadata": {},
     "output_type": "display_data"
    },
    {
     "data": {
      "text/markdown": [
       "<span style=\"color:#33cc33\">Correct</span>"
      ],
      "text/plain": [
       "Correct"
      ]
     },
     "metadata": {},
     "output_type": "display_data"
    }
   ],
   "source": [
    "bargain_idx = (reviews.points / reviews.price).idxmax()\n",
    "bargain_wine = reviews.loc[bargain_idx, 'title']\n",
    "\n",
    "# Check your answer\n",
    "q5.check()"
   ]
  },
  {
   "cell_type": "code",
   "execution_count": 11,
   "id": "5eaa66a4",
   "metadata": {
    "execution": {
     "iopub.execute_input": "2021-07-18T19:51:01.661239Z",
     "iopub.status.busy": "2021-07-18T19:51:01.660560Z",
     "iopub.status.idle": "2021-07-18T19:51:01.662946Z",
     "shell.execute_reply": "2021-07-18T19:51:01.663475Z",
     "shell.execute_reply.started": "2021-07-14T14:48:07.311619Z"
    },
    "papermill": {
     "duration": 0.032376,
     "end_time": "2021-07-18T19:51:01.663636",
     "exception": false,
     "start_time": "2021-07-18T19:51:01.631260",
     "status": "completed"
    },
    "tags": []
   },
   "outputs": [],
   "source": [
    "#q5.hint()\n",
    "#q5.solution()"
   ]
  },
  {
   "cell_type": "markdown",
   "id": "b1485e8b",
   "metadata": {
    "papermill": {
     "duration": 0.02317,
     "end_time": "2021-07-18T19:51:01.709220",
     "exception": false,
     "start_time": "2021-07-18T19:51:01.686050",
     "status": "completed"
    },
    "tags": []
   },
   "source": [
    "## 6.\n",
    "There are only so many words you can use when describing a bottle of wine. Is a wine more likely to be \"tropical\" or \"fruity\"? Create a Series `descriptor_counts` counting how many times each of these two words appears in the `description` column in the dataset."
   ]
  },
  {
   "cell_type": "code",
   "execution_count": 12,
   "id": "ca6660ab",
   "metadata": {
    "execution": {
     "iopub.execute_input": "2021-07-18T19:51:01.763205Z",
     "iopub.status.busy": "2021-07-18T19:51:01.761348Z",
     "iopub.status.idle": "2021-07-18T19:51:01.909465Z",
     "shell.execute_reply": "2021-07-18T19:51:01.908608Z",
     "shell.execute_reply.started": "2021-07-14T14:48:15.741018Z"
    },
    "papermill": {
     "duration": 0.176614,
     "end_time": "2021-07-18T19:51:01.909610",
     "exception": false,
     "start_time": "2021-07-18T19:51:01.732996",
     "status": "completed"
    },
    "tags": []
   },
   "outputs": [
    {
     "data": {
      "application/javascript": [
       "parent.postMessage({\"jupyterEvent\": \"custom.exercise_interaction\", \"data\": {\"outcomeType\": 1, \"valueTowardsCompletion\": 0.14285714285714285, \"interactionType\": 1, \"questionType\": 1, \"questionId\": \"6_DescriptorCounts\", \"learnToolsVersion\": \"0.3.4\", \"failureMessage\": \"\", \"exceptionClass\": \"\", \"trace\": \"\"}}, \"*\")"
      ],
      "text/plain": [
       "<IPython.core.display.Javascript object>"
      ]
     },
     "metadata": {},
     "output_type": "display_data"
    },
    {
     "data": {
      "text/markdown": [
       "<span style=\"color:#33cc33\">Correct</span>"
      ],
      "text/plain": [
       "Correct"
      ]
     },
     "metadata": {},
     "output_type": "display_data"
    }
   ],
   "source": [
    "\n",
    "tropi = reviews.description.map(lambda desc: \"tropical\" in desc).sum()\n",
    "frui = reviews.description.map(lambda desc: \"fruity\" in desc).sum()\n",
    "descriptor_counts = pd.Series([tropi, frui], index=['tropical', 'fruity'])\n",
    "\n",
    "# Check your answer\n",
    "q6.check()"
   ]
  },
  {
   "cell_type": "code",
   "execution_count": 13,
   "id": "fc2d4b31",
   "metadata": {
    "execution": {
     "iopub.execute_input": "2021-07-18T19:51:01.960029Z",
     "iopub.status.busy": "2021-07-18T19:51:01.959454Z",
     "iopub.status.idle": "2021-07-18T19:51:01.962347Z",
     "shell.execute_reply": "2021-07-18T19:51:01.961743Z",
     "shell.execute_reply.started": "2021-06-03T12:10:55.553018Z"
    },
    "papermill": {
     "duration": 0.029276,
     "end_time": "2021-07-18T19:51:01.962486",
     "exception": false,
     "start_time": "2021-07-18T19:51:01.933210",
     "status": "completed"
    },
    "tags": []
   },
   "outputs": [],
   "source": [
    "#q6.hint()\n",
    "#q6.solution()"
   ]
  },
  {
   "cell_type": "markdown",
   "id": "a697bb33",
   "metadata": {
    "papermill": {
     "duration": 0.025178,
     "end_time": "2021-07-18T19:51:02.011535",
     "exception": false,
     "start_time": "2021-07-18T19:51:01.986357",
     "status": "completed"
    },
    "tags": []
   },
   "source": [
    "## 7.\n",
    "We'd like to host these wine reviews on our website, but a rating system ranging from 80 to 100 points is too hard to understand - we'd like to translate them into simple star ratings. A score of 95 or higher counts as 3 stars, a score of at least 85 but less than 95 is 2 stars. Any other score is 1 star.\n",
    "\n",
    "Also, the Canadian Vintners Association bought a lot of ads on the site, so any wines from Canada should automatically get 3 stars, regardless of points.\n",
    "\n",
    "Create a series `star_ratings` with the number of stars corresponding to each review in the dataset."
   ]
  },
  {
   "cell_type": "code",
   "execution_count": 14,
   "id": "78b17887",
   "metadata": {
    "execution": {
     "iopub.execute_input": "2021-07-18T19:51:02.066526Z",
     "iopub.status.busy": "2021-07-18T19:51:02.065551Z",
     "iopub.status.idle": "2021-07-18T19:51:06.758095Z",
     "shell.execute_reply": "2021-07-18T19:51:06.757641Z",
     "shell.execute_reply.started": "2021-07-14T14:48:24.352355Z"
    },
    "papermill": {
     "duration": 4.722613,
     "end_time": "2021-07-18T19:51:06.758242",
     "exception": false,
     "start_time": "2021-07-18T19:51:02.035629",
     "status": "completed"
    },
    "tags": []
   },
   "outputs": [
    {
     "data": {
      "application/javascript": [
       "parent.postMessage({\"jupyterEvent\": \"custom.exercise_interaction\", \"data\": {\"outcomeType\": 1, \"valueTowardsCompletion\": 0.14285714285714285, \"interactionType\": 1, \"questionType\": 1, \"questionId\": \"7_StarRatings\", \"learnToolsVersion\": \"0.3.4\", \"failureMessage\": \"\", \"exceptionClass\": \"\", \"trace\": \"\"}}, \"*\")"
      ],
      "text/plain": [
       "<IPython.core.display.Javascript object>"
      ]
     },
     "metadata": {},
     "output_type": "display_data"
    },
    {
     "data": {
      "text/markdown": [
       "<span style=\"color:#33cc33\">Correct</span>"
      ],
      "text/plain": [
       "Correct"
      ]
     },
     "metadata": {},
     "output_type": "display_data"
    }
   ],
   "source": [
    "\n",
    "def stars(row):\n",
    "    if row.country == 'Canada':\n",
    "        return 3\n",
    "    elif row.points >= 95:\n",
    "        return 3\n",
    "    elif row.points >= 85:\n",
    "        return 2\n",
    "    else:\n",
    "        return 1\n",
    "\n",
    "star_ratings = reviews.apply(stars, axis='columns')\n",
    "q7.check()"
   ]
  },
  {
   "cell_type": "code",
   "execution_count": 15,
   "id": "796c3f34",
   "metadata": {
    "execution": {
     "iopub.execute_input": "2021-07-18T19:51:06.813351Z",
     "iopub.status.busy": "2021-07-18T19:51:06.812550Z",
     "iopub.status.idle": "2021-07-18T19:51:06.815463Z",
     "shell.execute_reply": "2021-07-18T19:51:06.814945Z",
     "shell.execute_reply.started": "2021-06-03T12:33:15.445822Z"
    },
    "papermill": {
     "duration": 0.031994,
     "end_time": "2021-07-18T19:51:06.815585",
     "exception": false,
     "start_time": "2021-07-18T19:51:06.783591",
     "status": "completed"
    },
    "tags": []
   },
   "outputs": [],
   "source": [
    "#q7.hint()\n",
    "#q7.solution()"
   ]
  },
  {
   "cell_type": "markdown",
   "id": "3846746f",
   "metadata": {
    "papermill": {
     "duration": 0.025057,
     "end_time": "2021-07-18T19:51:06.866593",
     "exception": false,
     "start_time": "2021-07-18T19:51:06.841536",
     "status": "completed"
    },
    "tags": []
   },
   "source": [
    "# Keep going\n",
    "Continue to **[grouping and sorting](https://www.kaggle.com/residentmario/grouping-and-sorting)**."
   ]
  },
  {
   "cell_type": "markdown",
   "id": "01702402",
   "metadata": {
    "papermill": {
     "duration": 0.026001,
     "end_time": "2021-07-18T19:51:06.918705",
     "exception": false,
     "start_time": "2021-07-18T19:51:06.892704",
     "status": "completed"
    },
    "tags": []
   },
   "source": [
    "---\n",
    "\n",
    "\n",
    "\n",
    "\n",
    "*Have questions or comments? Visit the [Learn Discussion forum](https://www.kaggle.com/learn-forum/161299) to chat with other Learners.*"
   ]
  }
 ],
 "metadata": {
  "kernelspec": {
   "display_name": "Python 3",
   "language": "python",
   "name": "python3"
  },
  "language_info": {
   "codemirror_mode": {
    "name": "ipython",
    "version": 3
   },
   "file_extension": ".py",
   "mimetype": "text/x-python",
   "name": "python",
   "nbconvert_exporter": "python",
   "pygments_lexer": "ipython3",
   "version": "3.7.10"
  },
  "papermill": {
   "default_parameters": {},
   "duration": 22.302191,
   "end_time": "2021-07-18T19:51:07.551945",
   "environment_variables": {},
   "exception": null,
   "input_path": "__notebook__.ipynb",
   "output_path": "__notebook__.ipynb",
   "parameters": {},
   "start_time": "2021-07-18T19:50:45.249754",
   "version": "2.3.3"
  }
 },
 "nbformat": 4,
 "nbformat_minor": 5
}
