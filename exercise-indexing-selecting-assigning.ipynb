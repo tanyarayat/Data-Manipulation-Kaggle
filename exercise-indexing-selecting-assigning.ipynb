{
 "cells": [
  {
   "cell_type": "markdown",
   "id": "189862e4",
   "metadata": {
    "papermill": {
     "duration": 0.021509,
     "end_time": "2021-07-18T19:49:42.149778",
     "exception": false,
     "start_time": "2021-07-18T19:49:42.128269",
     "status": "completed"
    },
    "tags": []
   },
   "source": [
    "**This notebook is an exercise in the [Pandas](https://www.kaggle.com/learn/pandas) course.  You can reference the tutorial at [this link](https://www.kaggle.com/residentmario/indexing-selecting-assigning).**\n",
    "\n",
    "---\n"
   ]
  },
  {
   "cell_type": "markdown",
   "id": "aecef802",
   "metadata": {
    "papermill": {
     "duration": 0.019878,
     "end_time": "2021-07-18T19:49:42.193346",
     "exception": false,
     "start_time": "2021-07-18T19:49:42.173468",
     "status": "completed"
    },
    "tags": []
   },
   "source": [
    "# Introduction\n",
    "\n",
    "In this set of exercises we will work with the [Wine Reviews dataset](https://www.kaggle.com/zynicide/wine-reviews). "
   ]
  },
  {
   "cell_type": "markdown",
   "id": "0195b3de",
   "metadata": {
    "papermill": {
     "duration": 0.020044,
     "end_time": "2021-07-18T19:49:42.234309",
     "exception": false,
     "start_time": "2021-07-18T19:49:42.214265",
     "status": "completed"
    },
    "tags": []
   },
   "source": [
    "Run the following cell to load your data and some utility functions (including code to check your answers)."
   ]
  },
  {
   "cell_type": "code",
   "execution_count": 1,
   "id": "0767fe01",
   "metadata": {
    "execution": {
     "iopub.execute_input": "2021-07-18T19:49:42.279639Z",
     "iopub.status.busy": "2021-07-18T19:49:42.278776Z",
     "iopub.status.idle": "2021-07-18T19:49:45.425862Z",
     "shell.execute_reply": "2021-07-18T19:49:45.425281Z",
     "shell.execute_reply.started": "2021-07-14T14:44:36.206721Z"
    },
    "papermill": {
     "duration": 3.170955,
     "end_time": "2021-07-18T19:49:45.426006",
     "exception": false,
     "start_time": "2021-07-18T19:49:42.255051",
     "status": "completed"
    },
    "tags": []
   },
   "outputs": [
    {
     "name": "stdout",
     "output_type": "stream",
     "text": [
      "Setup complete.\n"
     ]
    }
   ],
   "source": [
    "import pandas as pd\n",
    "\n",
    "reviews = pd.read_csv(\"../input/wine-reviews/winemag-data-130k-v2.csv\", index_col=0)\n",
    "pd.set_option(\"display.max_rows\", 5)\n",
    "\n",
    "from learntools.core import binder; binder.bind(globals())\n",
    "from learntools.pandas.indexing_selecting_and_assigning import *\n",
    "print(\"Setup complete.\")"
   ]
  },
  {
   "cell_type": "markdown",
   "id": "e55af6a8",
   "metadata": {
    "papermill": {
     "duration": 0.020153,
     "end_time": "2021-07-18T19:49:45.467551",
     "exception": false,
     "start_time": "2021-07-18T19:49:45.447398",
     "status": "completed"
    },
    "tags": []
   },
   "source": [
    "Look at an overview of your data by running the following line."
   ]
  },
  {
   "cell_type": "code",
   "execution_count": 2,
   "id": "2e7dd73d",
   "metadata": {
    "execution": {
     "iopub.execute_input": "2021-07-18T19:49:45.515634Z",
     "iopub.status.busy": "2021-07-18T19:49:45.515056Z",
     "iopub.status.idle": "2021-07-18T19:49:45.535254Z",
     "shell.execute_reply": "2021-07-18T19:49:45.535660Z",
     "shell.execute_reply.started": "2021-07-14T14:44:37.405339Z"
    },
    "papermill": {
     "duration": 0.04736,
     "end_time": "2021-07-18T19:49:45.535798",
     "exception": false,
     "start_time": "2021-07-18T19:49:45.488438",
     "status": "completed"
    },
    "tags": []
   },
   "outputs": [
    {
     "data": {
      "text/html": [
       "<div>\n",
       "<style scoped>\n",
       "    .dataframe tbody tr th:only-of-type {\n",
       "        vertical-align: middle;\n",
       "    }\n",
       "\n",
       "    .dataframe tbody tr th {\n",
       "        vertical-align: top;\n",
       "    }\n",
       "\n",
       "    .dataframe thead th {\n",
       "        text-align: right;\n",
       "    }\n",
       "</style>\n",
       "<table border=\"1\" class=\"dataframe\">\n",
       "  <thead>\n",
       "    <tr style=\"text-align: right;\">\n",
       "      <th></th>\n",
       "      <th>country</th>\n",
       "      <th>description</th>\n",
       "      <th>designation</th>\n",
       "      <th>points</th>\n",
       "      <th>price</th>\n",
       "      <th>province</th>\n",
       "      <th>region_1</th>\n",
       "      <th>region_2</th>\n",
       "      <th>taster_name</th>\n",
       "      <th>taster_twitter_handle</th>\n",
       "      <th>title</th>\n",
       "      <th>variety</th>\n",
       "      <th>winery</th>\n",
       "    </tr>\n",
       "  </thead>\n",
       "  <tbody>\n",
       "    <tr>\n",
       "      <th>0</th>\n",
       "      <td>Italy</td>\n",
       "      <td>Aromas include tropical fruit, broom, brimston...</td>\n",
       "      <td>Vulkà Bianco</td>\n",
       "      <td>87</td>\n",
       "      <td>NaN</td>\n",
       "      <td>Sicily &amp; Sardinia</td>\n",
       "      <td>Etna</td>\n",
       "      <td>NaN</td>\n",
       "      <td>Kerin O’Keefe</td>\n",
       "      <td>@kerinokeefe</td>\n",
       "      <td>Nicosia 2013 Vulkà Bianco  (Etna)</td>\n",
       "      <td>White Blend</td>\n",
       "      <td>Nicosia</td>\n",
       "    </tr>\n",
       "    <tr>\n",
       "      <th>1</th>\n",
       "      <td>Portugal</td>\n",
       "      <td>This is ripe and fruity, a wine that is smooth...</td>\n",
       "      <td>Avidagos</td>\n",
       "      <td>87</td>\n",
       "      <td>15.0</td>\n",
       "      <td>Douro</td>\n",
       "      <td>NaN</td>\n",
       "      <td>NaN</td>\n",
       "      <td>Roger Voss</td>\n",
       "      <td>@vossroger</td>\n",
       "      <td>Quinta dos Avidagos 2011 Avidagos Red (Douro)</td>\n",
       "      <td>Portuguese Red</td>\n",
       "      <td>Quinta dos Avidagos</td>\n",
       "    </tr>\n",
       "    <tr>\n",
       "      <th>2</th>\n",
       "      <td>US</td>\n",
       "      <td>Tart and snappy, the flavors of lime flesh and...</td>\n",
       "      <td>NaN</td>\n",
       "      <td>87</td>\n",
       "      <td>14.0</td>\n",
       "      <td>Oregon</td>\n",
       "      <td>Willamette Valley</td>\n",
       "      <td>Willamette Valley</td>\n",
       "      <td>Paul Gregutt</td>\n",
       "      <td>@paulgwine</td>\n",
       "      <td>Rainstorm 2013 Pinot Gris (Willamette Valley)</td>\n",
       "      <td>Pinot Gris</td>\n",
       "      <td>Rainstorm</td>\n",
       "    </tr>\n",
       "    <tr>\n",
       "      <th>3</th>\n",
       "      <td>US</td>\n",
       "      <td>Pineapple rind, lemon pith and orange blossom ...</td>\n",
       "      <td>Reserve Late Harvest</td>\n",
       "      <td>87</td>\n",
       "      <td>13.0</td>\n",
       "      <td>Michigan</td>\n",
       "      <td>Lake Michigan Shore</td>\n",
       "      <td>NaN</td>\n",
       "      <td>Alexander Peartree</td>\n",
       "      <td>NaN</td>\n",
       "      <td>St. Julian 2013 Reserve Late Harvest Riesling ...</td>\n",
       "      <td>Riesling</td>\n",
       "      <td>St. Julian</td>\n",
       "    </tr>\n",
       "    <tr>\n",
       "      <th>4</th>\n",
       "      <td>US</td>\n",
       "      <td>Much like the regular bottling from 2012, this...</td>\n",
       "      <td>Vintner's Reserve Wild Child Block</td>\n",
       "      <td>87</td>\n",
       "      <td>65.0</td>\n",
       "      <td>Oregon</td>\n",
       "      <td>Willamette Valley</td>\n",
       "      <td>Willamette Valley</td>\n",
       "      <td>Paul Gregutt</td>\n",
       "      <td>@paulgwine</td>\n",
       "      <td>Sweet Cheeks 2012 Vintner's Reserve Wild Child...</td>\n",
       "      <td>Pinot Noir</td>\n",
       "      <td>Sweet Cheeks</td>\n",
       "    </tr>\n",
       "  </tbody>\n",
       "</table>\n",
       "</div>"
      ],
      "text/plain": [
       "    country                                        description  \\\n",
       "0     Italy  Aromas include tropical fruit, broom, brimston...   \n",
       "1  Portugal  This is ripe and fruity, a wine that is smooth...   \n",
       "2        US  Tart and snappy, the flavors of lime flesh and...   \n",
       "3        US  Pineapple rind, lemon pith and orange blossom ...   \n",
       "4        US  Much like the regular bottling from 2012, this...   \n",
       "\n",
       "                          designation  points  price           province  \\\n",
       "0                        Vulkà Bianco      87    NaN  Sicily & Sardinia   \n",
       "1                            Avidagos      87   15.0              Douro   \n",
       "2                                 NaN      87   14.0             Oregon   \n",
       "3                Reserve Late Harvest      87   13.0           Michigan   \n",
       "4  Vintner's Reserve Wild Child Block      87   65.0             Oregon   \n",
       "\n",
       "              region_1           region_2         taster_name  \\\n",
       "0                 Etna                NaN       Kerin O’Keefe   \n",
       "1                  NaN                NaN          Roger Voss   \n",
       "2    Willamette Valley  Willamette Valley        Paul Gregutt   \n",
       "3  Lake Michigan Shore                NaN  Alexander Peartree   \n",
       "4    Willamette Valley  Willamette Valley        Paul Gregutt   \n",
       "\n",
       "  taster_twitter_handle                                              title  \\\n",
       "0          @kerinokeefe                  Nicosia 2013 Vulkà Bianco  (Etna)   \n",
       "1            @vossroger      Quinta dos Avidagos 2011 Avidagos Red (Douro)   \n",
       "2           @paulgwine       Rainstorm 2013 Pinot Gris (Willamette Valley)   \n",
       "3                   NaN  St. Julian 2013 Reserve Late Harvest Riesling ...   \n",
       "4           @paulgwine   Sweet Cheeks 2012 Vintner's Reserve Wild Child...   \n",
       "\n",
       "          variety               winery  \n",
       "0     White Blend              Nicosia  \n",
       "1  Portuguese Red  Quinta dos Avidagos  \n",
       "2      Pinot Gris            Rainstorm  \n",
       "3        Riesling           St. Julian  \n",
       "4      Pinot Noir         Sweet Cheeks  "
      ]
     },
     "execution_count": 2,
     "metadata": {},
     "output_type": "execute_result"
    }
   ],
   "source": [
    "reviews.head()"
   ]
  },
  {
   "cell_type": "markdown",
   "id": "e01de07b",
   "metadata": {
    "papermill": {
     "duration": 0.021631,
     "end_time": "2021-07-18T19:49:45.578363",
     "exception": false,
     "start_time": "2021-07-18T19:49:45.556732",
     "status": "completed"
    },
    "tags": []
   },
   "source": [
    "# Exercises"
   ]
  },
  {
   "cell_type": "markdown",
   "id": "439eac15",
   "metadata": {
    "papermill": {
     "duration": 0.022059,
     "end_time": "2021-07-18T19:49:45.621793",
     "exception": false,
     "start_time": "2021-07-18T19:49:45.599734",
     "status": "completed"
    },
    "tags": []
   },
   "source": [
    "## 1.\n",
    "\n",
    "Select the `description` column from `reviews` and assign the result to the variable `desc`."
   ]
  },
  {
   "cell_type": "code",
   "execution_count": 3,
   "id": "a5de9077",
   "metadata": {
    "execution": {
     "iopub.execute_input": "2021-07-18T19:49:45.670713Z",
     "iopub.status.busy": "2021-07-18T19:49:45.670176Z",
     "iopub.status.idle": "2021-07-18T19:49:45.678097Z",
     "shell.execute_reply": "2021-07-18T19:49:45.677661Z",
     "shell.execute_reply.started": "2021-07-14T14:44:37.430257Z"
    },
    "papermill": {
     "duration": 0.034859,
     "end_time": "2021-07-18T19:49:45.678218",
     "exception": false,
     "start_time": "2021-07-18T19:49:45.643359",
     "status": "completed"
    },
    "tags": []
   },
   "outputs": [
    {
     "data": {
      "application/javascript": [
       "parent.postMessage({\"jupyterEvent\": \"custom.exercise_interaction\", \"data\": {\"outcomeType\": 1, \"valueTowardsCompletion\": 0.1111111111111111, \"interactionType\": 1, \"questionType\": 1, \"questionId\": \"1_SelectDescCol\", \"learnToolsVersion\": \"0.3.4\", \"failureMessage\": \"\", \"exceptionClass\": \"\", \"trace\": \"\"}}, \"*\")"
      ],
      "text/plain": [
       "<IPython.core.display.Javascript object>"
      ]
     },
     "metadata": {},
     "output_type": "display_data"
    },
    {
     "data": {
      "text/markdown": [
       "<span style=\"color:#33cc33\">Correct</span>"
      ],
      "text/plain": [
       "Correct"
      ]
     },
     "metadata": {},
     "output_type": "display_data"
    }
   ],
   "source": [
    "# Your code here\n",
    "desc = reviews['description']\n",
    "\n",
    "# Check your answer\n",
    "q1.check()"
   ]
  },
  {
   "cell_type": "markdown",
   "id": "de15a5e1",
   "metadata": {
    "papermill": {
     "duration": 0.022256,
     "end_time": "2021-07-18T19:49:45.722495",
     "exception": false,
     "start_time": "2021-07-18T19:49:45.700239",
     "status": "completed"
    },
    "tags": []
   },
   "source": [
    "Follow-up question: what type of object is `desc`? If you're not sure, you can check by calling Python's `type` function: `type(desc)`."
   ]
  },
  {
   "cell_type": "code",
   "execution_count": 4,
   "id": "aa1f7b89",
   "metadata": {
    "execution": {
     "iopub.execute_input": "2021-07-18T19:49:45.771351Z",
     "iopub.status.busy": "2021-07-18T19:49:45.770805Z",
     "iopub.status.idle": "2021-07-18T19:49:45.774712Z",
     "shell.execute_reply": "2021-07-18T19:49:45.774194Z",
     "shell.execute_reply.started": "2021-07-14T14:44:37.452784Z"
    },
    "papermill": {
     "duration": 0.029848,
     "end_time": "2021-07-18T19:49:45.774837",
     "exception": false,
     "start_time": "2021-07-18T19:49:45.744989",
     "status": "completed"
    },
    "tags": []
   },
   "outputs": [],
   "source": [
    "#q1.hint()\n",
    "#q1.solution()"
   ]
  },
  {
   "cell_type": "markdown",
   "id": "3fe83e62",
   "metadata": {
    "papermill": {
     "duration": 0.021841,
     "end_time": "2021-07-18T19:49:45.819278",
     "exception": false,
     "start_time": "2021-07-18T19:49:45.797437",
     "status": "completed"
    },
    "tags": []
   },
   "source": [
    "## 2.\n",
    "\n",
    "Select the first value from the description column of `reviews`, assigning it to variable `first_description`."
   ]
  },
  {
   "cell_type": "code",
   "execution_count": 5,
   "id": "1348c7db",
   "metadata": {
    "execution": {
     "iopub.execute_input": "2021-07-18T19:49:45.868453Z",
     "iopub.status.busy": "2021-07-18T19:49:45.867932Z",
     "iopub.status.idle": "2021-07-18T19:49:45.880761Z",
     "shell.execute_reply": "2021-07-18T19:49:45.881146Z",
     "shell.execute_reply.started": "2021-07-14T14:44:37.460359Z"
    },
    "papermill": {
     "duration": 0.040202,
     "end_time": "2021-07-18T19:49:45.881301",
     "exception": false,
     "start_time": "2021-07-18T19:49:45.841099",
     "status": "completed"
    },
    "tags": []
   },
   "outputs": [
    {
     "data": {
      "application/javascript": [
       "parent.postMessage({\"jupyterEvent\": \"custom.exercise_interaction\", \"data\": {\"outcomeType\": 1, \"valueTowardsCompletion\": 0.1111111111111111, \"interactionType\": 1, \"questionType\": 1, \"questionId\": \"2_FirstDesc\", \"learnToolsVersion\": \"0.3.4\", \"failureMessage\": \"\", \"exceptionClass\": \"\", \"trace\": \"\"}}, \"*\")"
      ],
      "text/plain": [
       "<IPython.core.display.Javascript object>"
      ]
     },
     "metadata": {},
     "output_type": "display_data"
    },
    {
     "data": {
      "text/markdown": [
       "<span style=\"color:#33cc33\">Correct:</span> \n",
       "\n",
       "\n",
       "```python\n",
       "first_description = reviews.description.iloc[0]\n",
       "```\n",
       "Note that while this is the preferred way to obtain the entry in the DataFrame, many other options will return a valid result, such as `reviews.description.loc[0]`, `reviews.description[0]`, and more!  \n"
      ],
      "text/plain": [
       "Correct: \n",
       "\n",
       "\n",
       "```python\n",
       "first_description = reviews.description.iloc[0]\n",
       "```\n",
       "Note that while this is the preferred way to obtain the entry in the DataFrame, many other options will return a valid result, such as `reviews.description.loc[0]`, `reviews.description[0]`, and more!  "
      ]
     },
     "metadata": {},
     "output_type": "display_data"
    }
   ],
   "source": [
    "first_description =reviews['description'][0]\n",
    "\n",
    "# Check your answer\n",
    "q2.check()"
   ]
  },
  {
   "cell_type": "code",
   "execution_count": 6,
   "id": "feee6dd6",
   "metadata": {
    "execution": {
     "iopub.execute_input": "2021-07-18T19:49:45.931208Z",
     "iopub.status.busy": "2021-07-18T19:49:45.930727Z",
     "iopub.status.idle": "2021-07-18T19:49:45.936491Z",
     "shell.execute_reply": "2021-07-18T19:49:45.936008Z",
     "shell.execute_reply.started": "2021-07-14T14:44:37.487535Z"
    },
    "papermill": {
     "duration": 0.032125,
     "end_time": "2021-07-18T19:49:45.936610",
     "exception": false,
     "start_time": "2021-07-18T19:49:45.904485",
     "status": "completed"
    },
    "tags": []
   },
   "outputs": [],
   "source": [
    "#q2.hint()\n",
    "#q2.solution()"
   ]
  },
  {
   "cell_type": "markdown",
   "id": "fe556bdc",
   "metadata": {
    "papermill": {
     "duration": 0.024221,
     "end_time": "2021-07-18T19:49:45.984079",
     "exception": false,
     "start_time": "2021-07-18T19:49:45.959858",
     "status": "completed"
    },
    "tags": []
   },
   "source": [
    "## 3. \n",
    "\n",
    "Select the first row of data (the first record) from `reviews`, assigning it to the variable `first_row`."
   ]
  },
  {
   "cell_type": "code",
   "execution_count": 7,
   "id": "a8313cb1",
   "metadata": {
    "execution": {
     "iopub.execute_input": "2021-07-18T19:49:46.039626Z",
     "iopub.status.busy": "2021-07-18T19:49:46.038853Z",
     "iopub.status.idle": "2021-07-18T19:49:46.046432Z",
     "shell.execute_reply": "2021-07-18T19:49:46.045901Z",
     "shell.execute_reply.started": "2021-07-14T14:44:37.495167Z"
    },
    "papermill": {
     "duration": 0.03834,
     "end_time": "2021-07-18T19:49:46.046574",
     "exception": false,
     "start_time": "2021-07-18T19:49:46.008234",
     "status": "completed"
    },
    "tags": []
   },
   "outputs": [
    {
     "data": {
      "application/javascript": [
       "parent.postMessage({\"jupyterEvent\": \"custom.exercise_interaction\", \"data\": {\"outcomeType\": 1, \"valueTowardsCompletion\": 0.1111111111111111, \"interactionType\": 1, \"questionType\": 1, \"questionId\": \"3_FirstRow\", \"learnToolsVersion\": \"0.3.4\", \"failureMessage\": \"\", \"exceptionClass\": \"\", \"trace\": \"\"}}, \"*\")"
      ],
      "text/plain": [
       "<IPython.core.display.Javascript object>"
      ]
     },
     "metadata": {},
     "output_type": "display_data"
    },
    {
     "data": {
      "text/markdown": [
       "<span style=\"color:#33cc33\">Correct</span>"
      ],
      "text/plain": [
       "Correct"
      ]
     },
     "metadata": {},
     "output_type": "display_data"
    }
   ],
   "source": [
    "first_row = reviews.loc[0]\n",
    "\n",
    "# Check your answer\n",
    "q3.check()"
   ]
  },
  {
   "cell_type": "code",
   "execution_count": 8,
   "id": "ba4ca6e3",
   "metadata": {
    "execution": {
     "iopub.execute_input": "2021-07-18T19:49:46.099700Z",
     "iopub.status.busy": "2021-07-18T19:49:46.099157Z",
     "iopub.status.idle": "2021-07-18T19:49:46.104059Z",
     "shell.execute_reply": "2021-07-18T19:49:46.103506Z",
     "shell.execute_reply.started": "2021-07-14T14:44:37.51183Z"
    },
    "papermill": {
     "duration": 0.033015,
     "end_time": "2021-07-18T19:49:46.104182",
     "exception": false,
     "start_time": "2021-07-18T19:49:46.071167",
     "status": "completed"
    },
    "tags": []
   },
   "outputs": [],
   "source": [
    "#q3.hint()\n",
    "#q3.solution()"
   ]
  },
  {
   "cell_type": "markdown",
   "id": "9b2459e4",
   "metadata": {
    "papermill": {
     "duration": 0.024256,
     "end_time": "2021-07-18T19:49:46.153022",
     "exception": false,
     "start_time": "2021-07-18T19:49:46.128766",
     "status": "completed"
    },
    "tags": []
   },
   "source": [
    "## 4.\n",
    "\n",
    "Select the first 10 values from the `description` column in `reviews`, assigning the result to variable `first_descriptions`.\n",
    "\n",
    "Hint: format your output as a pandas Series."
   ]
  },
  {
   "cell_type": "code",
   "execution_count": 9,
   "id": "c6090f1b",
   "metadata": {
    "execution": {
     "iopub.execute_input": "2021-07-18T19:49:46.210443Z",
     "iopub.status.busy": "2021-07-18T19:49:46.209880Z",
     "iopub.status.idle": "2021-07-18T19:49:46.219122Z",
     "shell.execute_reply": "2021-07-18T19:49:46.218648Z",
     "shell.execute_reply.started": "2021-07-14T14:44:37.518984Z"
    },
    "papermill": {
     "duration": 0.040665,
     "end_time": "2021-07-18T19:49:46.219244",
     "exception": false,
     "start_time": "2021-07-18T19:49:46.178579",
     "status": "completed"
    },
    "tags": []
   },
   "outputs": [
    {
     "data": {
      "application/javascript": [
       "parent.postMessage({\"jupyterEvent\": \"custom.exercise_interaction\", \"data\": {\"outcomeType\": 1, \"valueTowardsCompletion\": 0.1111111111111111, \"interactionType\": 1, \"questionType\": 1, \"questionId\": \"4_FirstDescs\", \"learnToolsVersion\": \"0.3.4\", \"failureMessage\": \"\", \"exceptionClass\": \"\", \"trace\": \"\"}}, \"*\")"
      ],
      "text/plain": [
       "<IPython.core.display.Javascript object>"
      ]
     },
     "metadata": {},
     "output_type": "display_data"
    },
    {
     "data": {
      "text/markdown": [
       "<span style=\"color:#33cc33\">Correct:</span> \n",
       "\n",
       "\n",
       "```python\n",
       "first_descriptions = reviews.description.iloc[:10]\n",
       "```\n",
       "Note that many other options will return a valid result, such as `desc.head(10)` and `reviews.loc[:9, \"description\"]`.    \n"
      ],
      "text/plain": [
       "Correct: \n",
       "\n",
       "\n",
       "```python\n",
       "first_descriptions = reviews.description.iloc[:10]\n",
       "```\n",
       "Note that many other options will return a valid result, such as `desc.head(10)` and `reviews.loc[:9, \"description\"]`.    "
      ]
     },
     "metadata": {},
     "output_type": "display_data"
    }
   ],
   "source": [
    "first_descriptions=pd.Series(reviews.loc[:9,'description'])\n",
    "\n",
    "# Check your answer\n",
    "q4.check()"
   ]
  },
  {
   "cell_type": "code",
   "execution_count": 10,
   "id": "90c3fe1e",
   "metadata": {
    "execution": {
     "iopub.execute_input": "2021-07-18T19:49:46.276173Z",
     "iopub.status.busy": "2021-07-18T19:49:46.275624Z",
     "iopub.status.idle": "2021-07-18T19:49:46.278707Z",
     "shell.execute_reply": "2021-07-18T19:49:46.278193Z",
     "shell.execute_reply.started": "2021-07-14T14:44:37.538839Z"
    },
    "papermill": {
     "duration": 0.033354,
     "end_time": "2021-07-18T19:49:46.278842",
     "exception": false,
     "start_time": "2021-07-18T19:49:46.245488",
     "status": "completed"
    },
    "tags": []
   },
   "outputs": [],
   "source": [
    "#q4.hint()\n",
    "#q4.solution()"
   ]
  },
  {
   "cell_type": "markdown",
   "id": "5702f9d3",
   "metadata": {
    "papermill": {
     "duration": 0.025845,
     "end_time": "2021-07-18T19:49:46.330043",
     "exception": false,
     "start_time": "2021-07-18T19:49:46.304198",
     "status": "completed"
    },
    "tags": []
   },
   "source": [
    "## 5.\n",
    "\n",
    "Select the records with index labels `1`, `2`, `3`, `5`, and `8`, assigning the result to the variable `sample_reviews`.\n",
    "\n",
    "In other words, generate the following DataFrame:\n",
    "\n",
    "![](https://i.imgur.com/sHZvI1O.png)"
   ]
  },
  {
   "cell_type": "code",
   "execution_count": 11,
   "id": "65d07eb0",
   "metadata": {
    "execution": {
     "iopub.execute_input": "2021-07-18T19:49:46.389039Z",
     "iopub.status.busy": "2021-07-18T19:49:46.388487Z",
     "iopub.status.idle": "2021-07-18T19:49:46.397298Z",
     "shell.execute_reply": "2021-07-18T19:49:46.396751Z",
     "shell.execute_reply.started": "2021-07-14T14:44:37.547945Z"
    },
    "papermill": {
     "duration": 0.041983,
     "end_time": "2021-07-18T19:49:46.397443",
     "exception": false,
     "start_time": "2021-07-18T19:49:46.355460",
     "status": "completed"
    },
    "tags": []
   },
   "outputs": [
    {
     "data": {
      "application/javascript": [
       "parent.postMessage({\"jupyterEvent\": \"custom.exercise_interaction\", \"data\": {\"outcomeType\": 1, \"valueTowardsCompletion\": 0.1111111111111111, \"interactionType\": 1, \"questionType\": 1, \"questionId\": \"5_SampleReviews\", \"learnToolsVersion\": \"0.3.4\", \"failureMessage\": \"\", \"exceptionClass\": \"\", \"trace\": \"\"}}, \"*\")"
      ],
      "text/plain": [
       "<IPython.core.display.Javascript object>"
      ]
     },
     "metadata": {},
     "output_type": "display_data"
    },
    {
     "data": {
      "text/markdown": [
       "<span style=\"color:#33cc33\">Correct</span>"
      ],
      "text/plain": [
       "Correct"
      ]
     },
     "metadata": {},
     "output_type": "display_data"
    }
   ],
   "source": [
    "sample_reviews = reviews.iloc[[1,2,3,5,8]]\n",
    "\n",
    "# Check your answer\n",
    "q5.check()\n"
   ]
  },
  {
   "cell_type": "code",
   "execution_count": 12,
   "id": "c640bf99",
   "metadata": {
    "execution": {
     "iopub.execute_input": "2021-07-18T19:49:46.454361Z",
     "iopub.status.busy": "2021-07-18T19:49:46.453777Z",
     "iopub.status.idle": "2021-07-18T19:49:46.458488Z",
     "shell.execute_reply": "2021-07-18T19:49:46.457943Z",
     "shell.execute_reply.started": "2021-07-14T14:44:37.565772Z"
    },
    "papermill": {
     "duration": 0.035504,
     "end_time": "2021-07-18T19:49:46.458621",
     "exception": false,
     "start_time": "2021-07-18T19:49:46.423117",
     "status": "completed"
    },
    "tags": []
   },
   "outputs": [],
   "source": [
    "#q5.hint()\n",
    "#q5.solution()"
   ]
  },
  {
   "cell_type": "markdown",
   "id": "ea282153",
   "metadata": {
    "papermill": {
     "duration": 0.02573,
     "end_time": "2021-07-18T19:49:46.510270",
     "exception": false,
     "start_time": "2021-07-18T19:49:46.484540",
     "status": "completed"
    },
    "tags": []
   },
   "source": [
    "## 6.\n",
    "\n",
    "Create a variable `df` containing the `country`, `province`, `region_1`, and `region_2` columns of the records with the index labels `0`, `1`, `10`, and `100`. In other words, generate the following DataFrame:\n",
    "\n",
    "![](https://i.imgur.com/FUCGiKP.png)"
   ]
  },
  {
   "cell_type": "code",
   "execution_count": 13,
   "id": "4f2da395",
   "metadata": {
    "execution": {
     "iopub.execute_input": "2021-07-18T19:49:46.578831Z",
     "iopub.status.busy": "2021-07-18T19:49:46.577412Z",
     "iopub.status.idle": "2021-07-18T19:49:46.587182Z",
     "shell.execute_reply": "2021-07-18T19:49:46.586609Z",
     "shell.execute_reply.started": "2021-07-14T14:44:37.574596Z"
    },
    "papermill": {
     "duration": 0.048062,
     "end_time": "2021-07-18T19:49:46.587336",
     "exception": false,
     "start_time": "2021-07-18T19:49:46.539274",
     "status": "completed"
    },
    "tags": []
   },
   "outputs": [
    {
     "data": {
      "application/javascript": [
       "parent.postMessage({\"jupyterEvent\": \"custom.exercise_interaction\", \"data\": {\"outcomeType\": 1, \"valueTowardsCompletion\": 0.1111111111111111, \"interactionType\": 1, \"questionType\": 1, \"questionId\": \"6_RowColSelect\", \"learnToolsVersion\": \"0.3.4\", \"failureMessage\": \"\", \"exceptionClass\": \"\", \"trace\": \"\"}}, \"*\")"
      ],
      "text/plain": [
       "<IPython.core.display.Javascript object>"
      ]
     },
     "metadata": {},
     "output_type": "display_data"
    },
    {
     "data": {
      "text/markdown": [
       "<span style=\"color:#33cc33\">Correct</span>"
      ],
      "text/plain": [
       "Correct"
      ]
     },
     "metadata": {},
     "output_type": "display_data"
    }
   ],
   "source": [
    "df = reviews.loc[[0,1,10,100],['country','province','region_1','region_2']]\n",
    "\n",
    "# Check your answer\n",
    "q6.check()"
   ]
  },
  {
   "cell_type": "code",
   "execution_count": 14,
   "id": "cdacaae2",
   "metadata": {
    "execution": {
     "iopub.execute_input": "2021-07-18T19:49:46.646716Z",
     "iopub.status.busy": "2021-07-18T19:49:46.646104Z",
     "iopub.status.idle": "2021-07-18T19:49:46.651171Z",
     "shell.execute_reply": "2021-07-18T19:49:46.650586Z",
     "shell.execute_reply.started": "2021-07-14T14:44:37.599164Z"
    },
    "papermill": {
     "duration": 0.036666,
     "end_time": "2021-07-18T19:49:46.651398",
     "exception": false,
     "start_time": "2021-07-18T19:49:46.614732",
     "status": "completed"
    },
    "tags": []
   },
   "outputs": [],
   "source": [
    "#q6.hint()\n",
    "#q6.solution()"
   ]
  },
  {
   "cell_type": "markdown",
   "id": "4ce10ad1",
   "metadata": {
    "papermill": {
     "duration": 0.026884,
     "end_time": "2021-07-18T19:49:46.705364",
     "exception": false,
     "start_time": "2021-07-18T19:49:46.678480",
     "status": "completed"
    },
    "tags": []
   },
   "source": [
    "## 7.\n",
    "\n",
    "Create a variable `df` containing the `country` and `variety` columns of the first 100 records. \n",
    "\n",
    "Hint: you may use `loc` or `iloc`. When working on the answer this question and the several of the ones that follow, keep the following \"gotcha\" described in the tutorial:\n",
    "\n",
    "> `iloc` uses the Python stdlib indexing scheme, where the first element of the range is included and the last one excluded. \n",
    "`loc`, meanwhile, indexes inclusively. \n",
    "\n",
    "> This is particularly confusing when the DataFrame index is a simple numerical list, e.g. `0,...,1000`. In this case `df.iloc[0:1000]` will return 1000 entries, while `df.loc[0:1000]` return 1001 of them! To get 1000 elements using `loc`, you will need to go one lower and ask for `df.iloc[0:999]`. "
   ]
  },
  {
   "cell_type": "code",
   "execution_count": 15,
   "id": "3220c3a6",
   "metadata": {
    "execution": {
     "iopub.execute_input": "2021-07-18T19:49:46.766073Z",
     "iopub.status.busy": "2021-07-18T19:49:46.765417Z",
     "iopub.status.idle": "2021-07-18T19:49:46.775080Z",
     "shell.execute_reply": "2021-07-18T19:49:46.775492Z",
     "shell.execute_reply.started": "2021-07-14T14:44:37.605271Z"
    },
    "papermill": {
     "duration": 0.043821,
     "end_time": "2021-07-18T19:49:46.775677",
     "exception": false,
     "start_time": "2021-07-18T19:49:46.731856",
     "status": "completed"
    },
    "tags": []
   },
   "outputs": [
    {
     "data": {
      "application/javascript": [
       "parent.postMessage({\"jupyterEvent\": \"custom.exercise_interaction\", \"data\": {\"outcomeType\": 1, \"valueTowardsCompletion\": 0.1111111111111111, \"interactionType\": 1, \"questionType\": 1, \"questionId\": \"7_RowColSelect2\", \"learnToolsVersion\": \"0.3.4\", \"failureMessage\": \"\", \"exceptionClass\": \"\", \"trace\": \"\"}}, \"*\")"
      ],
      "text/plain": [
       "<IPython.core.display.Javascript object>"
      ]
     },
     "metadata": {},
     "output_type": "display_data"
    },
    {
     "data": {
      "text/markdown": [
       "<span style=\"color:#33cc33\">Correct:</span> \n",
       "\n",
       "\n",
       "```python\n",
       "cols = ['country', 'variety']\n",
       "df = reviews.loc[:99, cols]\n",
       "```\n",
       "or \n",
       "```python\n",
       "cols_idx = [0, 11]\n",
       "df = reviews.iloc[:100, cols_idx]\n",
       "```\n"
      ],
      "text/plain": [
       "Correct: \n",
       "\n",
       "\n",
       "```python\n",
       "cols = ['country', 'variety']\n",
       "df = reviews.loc[:99, cols]\n",
       "```\n",
       "or \n",
       "```python\n",
       "cols_idx = [0, 11]\n",
       "df = reviews.iloc[:100, cols_idx]\n",
       "```"
      ]
     },
     "metadata": {},
     "output_type": "display_data"
    }
   ],
   "source": [
    "df = reviews.loc[:99,['country','variety']]\n",
    "\n",
    "# Check your answer\n",
    "q7.check()"
   ]
  },
  {
   "cell_type": "code",
   "execution_count": 16,
   "id": "faf02b6c",
   "metadata": {
    "execution": {
     "iopub.execute_input": "2021-07-18T19:49:46.835592Z",
     "iopub.status.busy": "2021-07-18T19:49:46.835055Z",
     "iopub.status.idle": "2021-07-18T19:49:46.838680Z",
     "shell.execute_reply": "2021-07-18T19:49:46.837947Z",
     "shell.execute_reply.started": "2021-07-14T14:44:37.625353Z"
    },
    "papermill": {
     "duration": 0.035591,
     "end_time": "2021-07-18T19:49:46.838839",
     "exception": false,
     "start_time": "2021-07-18T19:49:46.803248",
     "status": "completed"
    },
    "tags": []
   },
   "outputs": [],
   "source": [
    "#q7.hint()\n",
    "#q7.solution()"
   ]
  },
  {
   "cell_type": "markdown",
   "id": "35daf45a",
   "metadata": {
    "papermill": {
     "duration": 0.042084,
     "end_time": "2021-07-18T19:49:46.922432",
     "exception": false,
     "start_time": "2021-07-18T19:49:46.880348",
     "status": "completed"
    },
    "tags": []
   },
   "source": [
    "## 8.\n",
    "\n",
    "Create a DataFrame `italian_wines` containing reviews of wines made in `Italy`. Hint: `reviews.country` equals what?"
   ]
  },
  {
   "cell_type": "code",
   "execution_count": 17,
   "id": "aba2e47a",
   "metadata": {
    "execution": {
     "iopub.execute_input": "2021-07-18T19:49:47.021015Z",
     "iopub.status.busy": "2021-07-18T19:49:47.020253Z",
     "iopub.status.idle": "2021-07-18T19:49:47.035997Z",
     "shell.execute_reply": "2021-07-18T19:49:47.035406Z",
     "shell.execute_reply.started": "2021-07-14T14:44:37.635113Z"
    },
    "papermill": {
     "duration": 0.071968,
     "end_time": "2021-07-18T19:49:47.036170",
     "exception": false,
     "start_time": "2021-07-18T19:49:46.964202",
     "status": "completed"
    },
    "tags": []
   },
   "outputs": [
    {
     "data": {
      "application/javascript": [
       "parent.postMessage({\"jupyterEvent\": \"custom.exercise_interaction\", \"data\": {\"outcomeType\": 1, \"valueTowardsCompletion\": 0.1111111111111111, \"interactionType\": 1, \"questionType\": 1, \"questionId\": \"8_ItalianWines\", \"learnToolsVersion\": \"0.3.4\", \"failureMessage\": \"\", \"exceptionClass\": \"\", \"trace\": \"\"}}, \"*\")"
      ],
      "text/plain": [
       "<IPython.core.display.Javascript object>"
      ]
     },
     "metadata": {},
     "output_type": "display_data"
    },
    {
     "data": {
      "text/markdown": [
       "<span style=\"color:#33cc33\">Correct</span>"
      ],
      "text/plain": [
       "Correct"
      ]
     },
     "metadata": {},
     "output_type": "display_data"
    }
   ],
   "source": [
    "italian_wines = reviews[reviews.country==\"Italy\"]\n",
    "# Check your answer\n",
    "q8.check()"
   ]
  },
  {
   "cell_type": "code",
   "execution_count": 18,
   "id": "1c6f2da1",
   "metadata": {
    "execution": {
     "iopub.execute_input": "2021-07-18T19:49:47.128693Z",
     "iopub.status.busy": "2021-07-18T19:49:47.128157Z",
     "iopub.status.idle": "2021-07-18T19:49:47.131429Z",
     "shell.execute_reply": "2021-07-18T19:49:47.130790Z",
     "shell.execute_reply.started": "2021-07-14T14:44:37.680628Z"
    },
    "papermill": {
     "duration": 0.050678,
     "end_time": "2021-07-18T19:49:47.131571",
     "exception": false,
     "start_time": "2021-07-18T19:49:47.080893",
     "status": "completed"
    },
    "tags": []
   },
   "outputs": [],
   "source": [
    "#q8.hint()\n",
    "#q8.solution()"
   ]
  },
  {
   "cell_type": "markdown",
   "id": "24e2302e",
   "metadata": {
    "papermill": {
     "duration": 0.04397,
     "end_time": "2021-07-18T19:49:47.217748",
     "exception": false,
     "start_time": "2021-07-18T19:49:47.173778",
     "status": "completed"
    },
    "tags": []
   },
   "source": [
    "## 9.\n",
    "\n",
    "Create a DataFrame `top_oceania_wines` containing all reviews with at least 95 points (out of 100) for wines from Australia or New Zealand."
   ]
  },
  {
   "cell_type": "code",
   "execution_count": 19,
   "id": "6e3f4b27",
   "metadata": {
    "execution": {
     "iopub.execute_input": "2021-07-18T19:49:47.314176Z",
     "iopub.status.busy": "2021-07-18T19:49:47.313468Z",
     "iopub.status.idle": "2021-07-18T19:49:47.322357Z",
     "shell.execute_reply": "2021-07-18T19:49:47.321727Z",
     "shell.execute_reply.started": "2021-07-14T14:44:37.686824Z"
    },
    "papermill": {
     "duration": 0.061084,
     "end_time": "2021-07-18T19:49:47.322554",
     "exception": false,
     "start_time": "2021-07-18T19:49:47.261470",
     "status": "completed"
    },
    "tags": []
   },
   "outputs": [
    {
     "data": {
      "application/javascript": [
       "parent.postMessage({\"jupyterEvent\": \"custom.exercise_interaction\", \"data\": {\"outcomeType\": 1, \"valueTowardsCompletion\": 0.1111111111111111, \"interactionType\": 1, \"questionType\": 1, \"questionId\": \"9_TopOceanicWines\", \"learnToolsVersion\": \"0.3.4\", \"failureMessage\": \"\", \"exceptionClass\": \"\", \"trace\": \"\"}}, \"*\")"
      ],
      "text/plain": [
       "<IPython.core.display.Javascript object>"
      ]
     },
     "metadata": {},
     "output_type": "display_data"
    },
    {
     "data": {
      "text/markdown": [
       "<span style=\"color:#33cc33\">Correct</span>"
      ],
      "text/plain": [
       "Correct"
      ]
     },
     "metadata": {},
     "output_type": "display_data"
    }
   ],
   "source": [
    "top_oceania_wines = reviews.loc[(reviews.country.isin(['Australia','New Zealand'])) &(reviews['points']>=95)]\n",
    "\n",
    "# Check your answer\n",
    "q9.check()"
   ]
  },
  {
   "cell_type": "code",
   "execution_count": 20,
   "id": "63fe0a9d",
   "metadata": {
    "execution": {
     "iopub.execute_input": "2021-07-18T19:49:47.420818Z",
     "iopub.status.busy": "2021-07-18T19:49:47.420078Z",
     "iopub.status.idle": "2021-07-18T19:49:47.423304Z",
     "shell.execute_reply": "2021-07-18T19:49:47.424008Z",
     "shell.execute_reply.started": "2021-07-14T14:44:37.713479Z"
    },
    "papermill": {
     "duration": 0.05752,
     "end_time": "2021-07-18T19:49:47.424216",
     "exception": false,
     "start_time": "2021-07-18T19:49:47.366696",
     "status": "completed"
    },
    "tags": []
   },
   "outputs": [],
   "source": [
    "#q9.hint()\n",
    "#q9.solution()"
   ]
  },
  {
   "cell_type": "markdown",
   "id": "b4c11ff1",
   "metadata": {
    "papermill": {
     "duration": 0.045289,
     "end_time": "2021-07-18T19:49:47.520960",
     "exception": false,
     "start_time": "2021-07-18T19:49:47.475671",
     "status": "completed"
    },
    "tags": []
   },
   "source": [
    "# Keep going\n",
    "\n",
    "Move on to learn about **[summary functions and maps](https://www.kaggle.com/residentmario/summary-functions-and-maps)**."
   ]
  },
  {
   "cell_type": "markdown",
   "id": "eca548ec",
   "metadata": {
    "papermill": {
     "duration": 0.045634,
     "end_time": "2021-07-18T19:49:47.612967",
     "exception": false,
     "start_time": "2021-07-18T19:49:47.567333",
     "status": "completed"
    },
    "tags": []
   },
   "source": [
    "---\n",
    "\n",
    "\n",
    "\n",
    "\n",
    "*Have questions or comments? Visit the [Learn Discussion forum](https://www.kaggle.com/learn-forum/161299) to chat with other Learners.*"
   ]
  }
 ],
 "metadata": {
  "kernelspec": {
   "display_name": "Python 3",
   "language": "python",
   "name": "python3"
  },
  "language_info": {
   "codemirror_mode": {
    "name": "ipython",
    "version": 3
   },
   "file_extension": ".py",
   "mimetype": "text/x-python",
   "name": "python",
   "nbconvert_exporter": "python",
   "pygments_lexer": "ipython3",
   "version": "3.7.10"
  },
  "papermill": {
   "default_parameters": {},
   "duration": 15.012776,
   "end_time": "2021-07-18T19:49:48.983622",
   "environment_variables": {},
   "exception": null,
   "input_path": "__notebook__.ipynb",
   "output_path": "__notebook__.ipynb",
   "parameters": {},
   "start_time": "2021-07-18T19:49:33.970846",
   "version": "2.3.3"
  }
 },
 "nbformat": 4,
 "nbformat_minor": 5
}
